{
  "nbformat": 4,
  "nbformat_minor": 0,
  "metadata": {
    "colab": {
      "name": "4070E059-python3(ch1-ch5).ipynb",
      "version": "0.3.2",
      "provenance": [],
      "collapsed_sections": [],
      "include_colab_link": true
    },
    "kernelspec": {
      "name": "python3",
      "display_name": "Python 3"
    }
  },
  "cells": [
    {
      "cell_type": "markdown",
      "metadata": {
        "id": "view-in-github",
        "colab_type": "text"
      },
      "source": [
        "<a href=\"https://colab.research.google.com/github/S107001896/google-colab/blob/master/4070E059_python3(ch1_ch5).ipynb\" target=\"_parent\"><img src=\"https://colab.research.google.com/assets/colab-badge.svg\" alt=\"Open In Colab\"/></a>"
      ]
    },
    {
      "metadata": {
        "id": "xCl0lr5BBZN2",
        "colab_type": "code",
        "colab": {
          "base_uri": "https://localhost:8080/",
          "height": 34
        },
        "outputId": "c391110d-844e-49f1-ad71-c77c91f59cf0"
      },
      "cell_type": "code",
      "source": [
        "# Assign a radius\n",
        "radius = 20 # radius is now 20\n",
        "\n",
        "# Compute area\n",
        "area = radius * radius * 3.14159\n",
        "\n",
        "# Display results\n",
        "print(\"The area for the circle of radius\", radius, \"is\", area)"
      ],
      "execution_count": 9,
      "outputs": [
        {
          "output_type": "stream",
          "text": [
            "The area for the circle of radius 20 is 1256.636\n"
          ],
          "name": "stdout"
        }
      ]
    },
    {
      "metadata": {
        "id": "lD9dXH0ECthE",
        "colab_type": "code",
        "colab": {
          "base_uri": "https://localhost:8080/",
          "height": 947
        },
        "outputId": "9a375376-23e2-43a9-ab20-81d087bf1288"
      },
      "cell_type": "code",
      "source": [
        "# Prompt the user to enter a radius\n",
        "radius = eval(input(\"Enter a number for radius: \"))\n",
        "\n",
        "# Compute area\n",
        "area = radius * radius * 3.14159\n",
        "\n",
        "# Display results\n",
        "print(\"The area for the circle of radius\", radius, \"is\", area)"
      ],
      "execution_count": 10,
      "outputs": [
        {
          "output_type": "error",
          "ename": "KeyboardInterrupt",
          "evalue": "ignored",
          "traceback": [
            "\u001b[0;31m---------------------------------------------------------------------------\u001b[0m",
            "\u001b[0;31mKeyboardInterrupt\u001b[0m                         Traceback (most recent call last)",
            "\u001b[0;32m/usr/local/lib/python3.6/dist-packages/ipykernel/kernelbase.py\u001b[0m in \u001b[0;36m_input_request\u001b[0;34m(self, prompt, ident, parent, password)\u001b[0m\n\u001b[1;32m    729\u001b[0m             \u001b[0;32mtry\u001b[0m\u001b[0;34m:\u001b[0m\u001b[0;34m\u001b[0m\u001b[0;34m\u001b[0m\u001b[0m\n\u001b[0;32m--> 730\u001b[0;31m                 \u001b[0mident\u001b[0m\u001b[0;34m,\u001b[0m \u001b[0mreply\u001b[0m \u001b[0;34m=\u001b[0m \u001b[0mself\u001b[0m\u001b[0;34m.\u001b[0m\u001b[0msession\u001b[0m\u001b[0;34m.\u001b[0m\u001b[0mrecv\u001b[0m\u001b[0;34m(\u001b[0m\u001b[0mself\u001b[0m\u001b[0;34m.\u001b[0m\u001b[0mstdin_socket\u001b[0m\u001b[0;34m,\u001b[0m \u001b[0;36m0\u001b[0m\u001b[0;34m)\u001b[0m\u001b[0;34m\u001b[0m\u001b[0;34m\u001b[0m\u001b[0m\n\u001b[0m\u001b[1;32m    731\u001b[0m             \u001b[0;32mexcept\u001b[0m \u001b[0mException\u001b[0m\u001b[0;34m:\u001b[0m\u001b[0;34m\u001b[0m\u001b[0;34m\u001b[0m\u001b[0m\n",
            "\u001b[0;32m/usr/local/lib/python3.6/dist-packages/jupyter_client/session.py\u001b[0m in \u001b[0;36mrecv\u001b[0;34m(self, socket, mode, content, copy)\u001b[0m\n\u001b[1;32m    802\u001b[0m         \u001b[0;32mtry\u001b[0m\u001b[0;34m:\u001b[0m\u001b[0;34m\u001b[0m\u001b[0;34m\u001b[0m\u001b[0m\n\u001b[0;32m--> 803\u001b[0;31m             \u001b[0mmsg_list\u001b[0m \u001b[0;34m=\u001b[0m \u001b[0msocket\u001b[0m\u001b[0;34m.\u001b[0m\u001b[0mrecv_multipart\u001b[0m\u001b[0;34m(\u001b[0m\u001b[0mmode\u001b[0m\u001b[0;34m,\u001b[0m \u001b[0mcopy\u001b[0m\u001b[0;34m=\u001b[0m\u001b[0mcopy\u001b[0m\u001b[0;34m)\u001b[0m\u001b[0;34m\u001b[0m\u001b[0;34m\u001b[0m\u001b[0m\n\u001b[0m\u001b[1;32m    804\u001b[0m         \u001b[0;32mexcept\u001b[0m \u001b[0mzmq\u001b[0m\u001b[0;34m.\u001b[0m\u001b[0mZMQError\u001b[0m \u001b[0;32mas\u001b[0m \u001b[0me\u001b[0m\u001b[0;34m:\u001b[0m\u001b[0;34m\u001b[0m\u001b[0;34m\u001b[0m\u001b[0m\n",
            "\u001b[0;32m/usr/local/lib/python3.6/dist-packages/zmq/sugar/socket.py\u001b[0m in \u001b[0;36mrecv_multipart\u001b[0;34m(self, flags, copy, track)\u001b[0m\n\u001b[1;32m    465\u001b[0m         \"\"\"\n\u001b[0;32m--> 466\u001b[0;31m         \u001b[0mparts\u001b[0m \u001b[0;34m=\u001b[0m \u001b[0;34m[\u001b[0m\u001b[0mself\u001b[0m\u001b[0;34m.\u001b[0m\u001b[0mrecv\u001b[0m\u001b[0;34m(\u001b[0m\u001b[0mflags\u001b[0m\u001b[0;34m,\u001b[0m \u001b[0mcopy\u001b[0m\u001b[0;34m=\u001b[0m\u001b[0mcopy\u001b[0m\u001b[0;34m,\u001b[0m \u001b[0mtrack\u001b[0m\u001b[0;34m=\u001b[0m\u001b[0mtrack\u001b[0m\u001b[0;34m)\u001b[0m\u001b[0;34m]\u001b[0m\u001b[0;34m\u001b[0m\u001b[0;34m\u001b[0m\u001b[0m\n\u001b[0m\u001b[1;32m    467\u001b[0m         \u001b[0;31m# have first part already, only loop while more to receive\u001b[0m\u001b[0;34m\u001b[0m\u001b[0;34m\u001b[0m\u001b[0;34m\u001b[0m\u001b[0m\n",
            "\u001b[0;32mzmq/backend/cython/socket.pyx\u001b[0m in \u001b[0;36mzmq.backend.cython.socket.Socket.recv\u001b[0;34m()\u001b[0m\n",
            "\u001b[0;32mzmq/backend/cython/socket.pyx\u001b[0m in \u001b[0;36mzmq.backend.cython.socket.Socket.recv\u001b[0;34m()\u001b[0m\n",
            "\u001b[0;32mzmq/backend/cython/socket.pyx\u001b[0m in \u001b[0;36mzmq.backend.cython.socket._recv_copy\u001b[0;34m()\u001b[0m\n",
            "\u001b[0;32m/usr/local/lib/python3.6/dist-packages/zmq/backend/cython/checkrc.pxd\u001b[0m in \u001b[0;36mzmq.backend.cython.checkrc._check_rc\u001b[0;34m()\u001b[0m\n",
            "\u001b[0;31mKeyboardInterrupt\u001b[0m: ",
            "\nDuring handling of the above exception, another exception occurred:\n",
            "\u001b[0;31mKeyboardInterrupt\u001b[0m                         Traceback (most recent call last)",
            "\u001b[0;32m<ipython-input-10-106148bef903>\u001b[0m in \u001b[0;36m<module>\u001b[0;34m()\u001b[0m\n\u001b[0;32m----> 1\u001b[0;31m \u001b[0mradius\u001b[0m \u001b[0;34m=\u001b[0m \u001b[0meval\u001b[0m\u001b[0;34m(\u001b[0m\u001b[0minput\u001b[0m\u001b[0;34m(\u001b[0m\u001b[0;34m\"Enter a number for radius: \"\u001b[0m\u001b[0;34m)\u001b[0m\u001b[0;34m)\u001b[0m\u001b[0;34m\u001b[0m\u001b[0;34m\u001b[0m\u001b[0m\n\u001b[0m\u001b[1;32m      2\u001b[0m \u001b[0;34m\u001b[0m\u001b[0m\n\u001b[1;32m      3\u001b[0m \u001b[0;31m# Compute area\u001b[0m\u001b[0;34m\u001b[0m\u001b[0;34m\u001b[0m\u001b[0;34m\u001b[0m\u001b[0m\n\u001b[1;32m      4\u001b[0m \u001b[0marea\u001b[0m \u001b[0;34m=\u001b[0m \u001b[0mradius\u001b[0m \u001b[0;34m*\u001b[0m \u001b[0mradius\u001b[0m \u001b[0;34m*\u001b[0m \u001b[0;36m3.14159\u001b[0m\u001b[0;34m\u001b[0m\u001b[0;34m\u001b[0m\u001b[0m\n\u001b[1;32m      5\u001b[0m \u001b[0;34m\u001b[0m\u001b[0m\n",
            "\u001b[0;32m/usr/local/lib/python3.6/dist-packages/ipykernel/kernelbase.py\u001b[0m in \u001b[0;36mraw_input\u001b[0;34m(self, prompt)\u001b[0m\n\u001b[1;32m    703\u001b[0m             \u001b[0mself\u001b[0m\u001b[0;34m.\u001b[0m\u001b[0m_parent_ident\u001b[0m\u001b[0;34m,\u001b[0m\u001b[0;34m\u001b[0m\u001b[0;34m\u001b[0m\u001b[0m\n\u001b[1;32m    704\u001b[0m             \u001b[0mself\u001b[0m\u001b[0;34m.\u001b[0m\u001b[0m_parent_header\u001b[0m\u001b[0;34m,\u001b[0m\u001b[0;34m\u001b[0m\u001b[0;34m\u001b[0m\u001b[0m\n\u001b[0;32m--> 705\u001b[0;31m             \u001b[0mpassword\u001b[0m\u001b[0;34m=\u001b[0m\u001b[0;32mFalse\u001b[0m\u001b[0;34m,\u001b[0m\u001b[0;34m\u001b[0m\u001b[0;34m\u001b[0m\u001b[0m\n\u001b[0m\u001b[1;32m    706\u001b[0m         )\n\u001b[1;32m    707\u001b[0m \u001b[0;34m\u001b[0m\u001b[0m\n",
            "\u001b[0;32m/usr/local/lib/python3.6/dist-packages/ipykernel/kernelbase.py\u001b[0m in \u001b[0;36m_input_request\u001b[0;34m(self, prompt, ident, parent, password)\u001b[0m\n\u001b[1;32m    733\u001b[0m             \u001b[0;32mexcept\u001b[0m \u001b[0mKeyboardInterrupt\u001b[0m\u001b[0;34m:\u001b[0m\u001b[0;34m\u001b[0m\u001b[0;34m\u001b[0m\u001b[0m\n\u001b[1;32m    734\u001b[0m                 \u001b[0;31m# re-raise KeyboardInterrupt, to truncate traceback\u001b[0m\u001b[0;34m\u001b[0m\u001b[0;34m\u001b[0m\u001b[0;34m\u001b[0m\u001b[0m\n\u001b[0;32m--> 735\u001b[0;31m                 \u001b[0;32mraise\u001b[0m \u001b[0mKeyboardInterrupt\u001b[0m\u001b[0;34m\u001b[0m\u001b[0;34m\u001b[0m\u001b[0m\n\u001b[0m\u001b[1;32m    736\u001b[0m             \u001b[0;32melse\u001b[0m\u001b[0;34m:\u001b[0m\u001b[0;34m\u001b[0m\u001b[0;34m\u001b[0m\u001b[0m\n\u001b[1;32m    737\u001b[0m                 \u001b[0;32mbreak\u001b[0m\u001b[0;34m\u001b[0m\u001b[0;34m\u001b[0m\u001b[0m\n",
            "\u001b[0;31mKeyboardInterrupt\u001b[0m: "
          ]
        }
      ]
    },
    {
      "metadata": {
        "id": "E9n6tISTC6y0",
        "colab_type": "code",
        "colab": {}
      },
      "cell_type": "code",
      "source": [
        "# Prompt the user to enter three numbers\n",
        "number1 = eval(input(\"Enter the first number: \"))\n",
        "number2 = eval(input(\"Enter the second number: \"))\n",
        "number3 = eval(input(\"Enter the third number: \"))\n",
        "\n",
        "# Compute average\n",
        "average = (number1 + number2 + number3) / 3\n",
        "\n",
        "# Display result\n",
        "print(\"The average of\", number1, number2, number3, \n",
        "    \"is\", average)"
      ],
      "execution_count": 0,
      "outputs": []
    },
    {
      "metadata": {
        "id": "6l5AFgcjDDD8",
        "colab_type": "code",
        "colab": {}
      },
      "cell_type": "code",
      "source": [
        "# Prompt the user to enter three numbers\n",
        "number1, number2, number3 = eval(input(\n",
        "  \"Enter three numbers separated by commas: \"))\n",
        "\n",
        "# Compute average\n",
        "average = (number1 + number2 + number3) / 3\n",
        "\n",
        "# Display result\n",
        "print(\"The average of\", number1, number2, number3,\n",
        "    \"is\", average)"
      ],
      "execution_count": 0,
      "outputs": []
    },
    {
      "metadata": {
        "id": "uBOI2CfEDQCL",
        "colab_type": "code",
        "colab": {}
      },
      "cell_type": "code",
      "source": [
        "# Prompt the user for input\n",
        "seconds = eval(input(\"Enter an integer for seconds: \"))\n",
        "\n",
        "# Get minutes and remaining seconds\n",
        "minutes = seconds // 60     # Find minutes in seconds\n",
        "remainingSeconds = seconds % 60   # Seconds remaining\n",
        "print(seconds, \"seconds is\", minutes,  \n",
        "  \"minutes and\", remainingSeconds, \"seconds\")"
      ],
      "execution_count": 0,
      "outputs": []
    },
    {
      "metadata": {
        "id": "zUwPzUnqDZZr",
        "colab_type": "code",
        "colab": {}
      },
      "cell_type": "code",
      "source": [
        "# Prompt the user for input\n",
        "purchaseAmount = eval(input(\"Enter purchase amount: \"))\n",
        "\n",
        "# Compute sales tax\n",
        "tax = purchaseAmount * 0.06\n",
        "\n",
        "# Display tax amount with two digits after decimal point\n",
        "print(\"Sales tax is\", int(tax * 100) / 100.0)"
      ],
      "execution_count": 0,
      "outputs": []
    },
    {
      "metadata": {
        "id": "er_m44FQDnIE",
        "colab_type": "code",
        "colab": {}
      },
      "cell_type": "code",
      "source": [
        "import time\n",
        "\n",
        "currentTime = time.time() # Get current time\n",
        "\n",
        "# Obtain the total seconds since midnight, Jan 1, 1970\n",
        "totalSeconds = int(currentTime)\n",
        "\n",
        "# Get the current second \n",
        "currentSecond = totalSeconds % 60 \n",
        "\n",
        "# Obtain the total minutes\n",
        "totalMinutes = totalSeconds // 60 \n",
        "\n",
        "# Compute the current minute in the hour\n",
        "currentMinute = totalMinutes % 60\n",
        "\n",
        "# Obtain the total hours\n",
        "totalHours = totalMinutes // 60\n",
        "\n",
        "# Compute the current hour\n",
        "currentHour = totalHours % 24\n",
        "\n",
        "# Display results\n",
        "print(\"Current time is \" + str(currentHour) + \":\"\n",
        "    + str(currentMinute) + \":\" + str(currentSecond) + \" GMT\")"
      ],
      "execution_count": 0,
      "outputs": []
    },
    {
      "metadata": {
        "id": "CjhOfAWQDxj0",
        "colab_type": "code",
        "colab": {
          "base_uri": "https://localhost:8080/",
          "height": 102
        },
        "outputId": "1d223bbc-cf79-421a-a0fe-d487140b5a89"
      },
      "cell_type": "code",
      "source": [
        "# Enter yearly interest rate\n",
        "annualInterestRate = eval(input(\n",
        "  \"Enter annual interest rate, e.g., 8.25: \"))\n",
        "monthlyInterestRate = annualInterestRate / 1200\n",
        "\n",
        "# Enter number of years\n",
        "numberOfYears = eval(input(\n",
        "  \"Enter number of years as an integer, e.g., 5: \"))\n",
        "    \n",
        "# Enter loan amount\n",
        "loanAmount = eval(input(\"Enter loan amount, e.g., 120000.95: \"))\n",
        "    \n",
        "# Calculate payment\n",
        "monthlyPayment = loanAmount * monthlyInterestRate / (1\n",
        "  - 1 / (1 + monthlyInterestRate) ** (numberOfYears * 12))\n",
        "totalPayment = monthlyPayment * numberOfYears * 12\n",
        "\n",
        "# Display results\n",
        "print(\"The monthly payment is\", int(monthlyPayment * 100) / 100)\n",
        "print(\"The total payment is\", int(totalPayment * 100) /100)"
      ],
      "execution_count": 11,
      "outputs": [
        {
          "output_type": "stream",
          "text": [
            "Enter annual interest rate, e.g., 8.25: 5.75\n",
            "Enter number of years as an integer, e.g., 5: 15\n",
            "Enter loan amount, e.g., 120000.95: 250000\n",
            "The monthly payment is 2076.02\n",
            "The total payment is 373684.53\n"
          ],
          "name": "stdout"
        }
      ]
    },
    {
      "metadata": {
        "id": "EyeLrbAtEHBr",
        "colab_type": "code",
        "colab": {
          "base_uri": "https://localhost:8080/",
          "height": 68
        },
        "outputId": "fb4e27c5-6036-45f7-d932-1ce3117c5ed8"
      },
      "cell_type": "code",
      "source": [
        "# Enter the first point with two double values\n",
        "x1, y1 = eval(input(\"Enter x1 and y1: \"))\n",
        "\n",
        "# Enter the second point with two double values\n",
        "x2, y2 = eval(input(\"Enter x2 and y2: \"))\n",
        " \n",
        "# Compute the distance\n",
        "distance = ((x1 - x2) * (x1 - x2) + (y1 - y2) * (y1 - y2)) ** 0.5\n",
        "    \n",
        "print(\"The distance between the two points is\", distance) "
      ],
      "execution_count": 12,
      "outputs": [
        {
          "output_type": "stream",
          "text": [
            "Enter x1 and y1: 1.5,-3.4\n",
            "Enter x2 and y2: 4,5\n",
            "The distance between the two points is 8.764131445842194\n"
          ],
          "name": "stdout"
        }
      ]
    },
    {
      "metadata": {
        "id": "58BaZcy0EVZT",
        "colab_type": "code",
        "colab": {
          "base_uri": "https://localhost:8080/",
          "height": 896
        },
        "outputId": "d0fd28ac-209b-4345-9990-d1f8d73bc339"
      },
      "cell_type": "code",
      "source": [
        "import turtle\n",
        "\n",
        "# Prompt the user for inputing two points\n",
        "x1, y1 = eval(input(\"Enter x1 and y1 for Point 1: \"))\n",
        "x2, y2 = eval(input(\"Enter x2 and y2 for Point 2: \"))\n",
        "              \n",
        "# Compute the distance\n",
        "distance = ((x1 - x2) ** 2 + (y1 - y2) ** 2) ** 0.5\n",
        "\n",
        "# Display two points and the connecting line\n",
        "turtle.penup()\n",
        "turtle.goto(x1, y1) # Move to (x1, y1)\n",
        "turtle.pendown()\n",
        "turtle.write(\"Point 1\") \n",
        "turtle.goto(x2, y2) # draw a line to (x2, y2)\n",
        "turtle.write(\"Point 2\")\n",
        "\n",
        "# Move to the center point of the line\n",
        "turtle.penup()\n",
        "turtle.goto((x1 + x2) / 2, (y1 + y2) / 2) \n",
        "turtle.write(distance)\n",
        "\n",
        "turtle.done() "
      ],
      "execution_count": 13,
      "outputs": [
        {
          "output_type": "stream",
          "text": [
            "Enter x1 and y1 for Point 1: -50,34\n",
            "Enter x2 and y2 for Point 2: 49,-85\n"
          ],
          "name": "stdout"
        },
        {
          "output_type": "error",
          "ename": "TclError",
          "evalue": "ignored",
          "traceback": [
            "\u001b[0;31m---------------------------------------------------------------------------\u001b[0m",
            "\u001b[0;31mTclError\u001b[0m                                  Traceback (most recent call last)",
            "\u001b[0;32m<ipython-input-13-d1d40b9f1a4e>\u001b[0m in \u001b[0;36m<module>\u001b[0;34m()\u001b[0m\n\u001b[1;32m      9\u001b[0m \u001b[0;34m\u001b[0m\u001b[0m\n\u001b[1;32m     10\u001b[0m \u001b[0;31m# Display two points and the connecting line\u001b[0m\u001b[0;34m\u001b[0m\u001b[0;34m\u001b[0m\u001b[0;34m\u001b[0m\u001b[0m\n\u001b[0;32m---> 11\u001b[0;31m \u001b[0mturtle\u001b[0m\u001b[0;34m.\u001b[0m\u001b[0mpenup\u001b[0m\u001b[0;34m(\u001b[0m\u001b[0;34m)\u001b[0m\u001b[0;34m\u001b[0m\u001b[0;34m\u001b[0m\u001b[0m\n\u001b[0m\u001b[1;32m     12\u001b[0m \u001b[0mturtle\u001b[0m\u001b[0;34m.\u001b[0m\u001b[0mgoto\u001b[0m\u001b[0;34m(\u001b[0m\u001b[0mx1\u001b[0m\u001b[0;34m,\u001b[0m \u001b[0my1\u001b[0m\u001b[0;34m)\u001b[0m \u001b[0;31m# Move to (x1, y1)\u001b[0m\u001b[0;34m\u001b[0m\u001b[0;34m\u001b[0m\u001b[0m\n\u001b[1;32m     13\u001b[0m \u001b[0mturtle\u001b[0m\u001b[0;34m.\u001b[0m\u001b[0mpendown\u001b[0m\u001b[0;34m(\u001b[0m\u001b[0;34m)\u001b[0m\u001b[0;34m\u001b[0m\u001b[0;34m\u001b[0m\u001b[0m\n",
            "\u001b[0;32m/usr/lib/python3.6/turtle.py\u001b[0m in \u001b[0;36mpenup\u001b[0;34m()\u001b[0m\n",
            "\u001b[0;32m/usr/lib/python3.6/turtle.py\u001b[0m in \u001b[0;36m__init__\u001b[0;34m(self, shape, undobuffersize, visible)\u001b[0m\n\u001b[1;32m   3810\u001b[0m                  visible=_CFG[\"visible\"]):\n\u001b[1;32m   3811\u001b[0m         \u001b[0;32mif\u001b[0m \u001b[0mTurtle\u001b[0m\u001b[0;34m.\u001b[0m\u001b[0m_screen\u001b[0m \u001b[0;32mis\u001b[0m \u001b[0;32mNone\u001b[0m\u001b[0;34m:\u001b[0m\u001b[0;34m\u001b[0m\u001b[0;34m\u001b[0m\u001b[0m\n\u001b[0;32m-> 3812\u001b[0;31m             \u001b[0mTurtle\u001b[0m\u001b[0;34m.\u001b[0m\u001b[0m_screen\u001b[0m \u001b[0;34m=\u001b[0m \u001b[0mScreen\u001b[0m\u001b[0;34m(\u001b[0m\u001b[0;34m)\u001b[0m\u001b[0;34m\u001b[0m\u001b[0;34m\u001b[0m\u001b[0m\n\u001b[0m\u001b[1;32m   3813\u001b[0m         RawTurtle.__init__(self, Turtle._screen,\n\u001b[1;32m   3814\u001b[0m                            \u001b[0mshape\u001b[0m\u001b[0;34m=\u001b[0m\u001b[0mshape\u001b[0m\u001b[0;34m,\u001b[0m\u001b[0;34m\u001b[0m\u001b[0;34m\u001b[0m\u001b[0m\n",
            "\u001b[0;32m/usr/lib/python3.6/turtle.py\u001b[0m in \u001b[0;36mScreen\u001b[0;34m()\u001b[0m\n\u001b[1;32m   3660\u001b[0m     else return the existing one.\"\"\"\n\u001b[1;32m   3661\u001b[0m     \u001b[0;32mif\u001b[0m \u001b[0mTurtle\u001b[0m\u001b[0;34m.\u001b[0m\u001b[0m_screen\u001b[0m \u001b[0;32mis\u001b[0m \u001b[0;32mNone\u001b[0m\u001b[0;34m:\u001b[0m\u001b[0;34m\u001b[0m\u001b[0;34m\u001b[0m\u001b[0m\n\u001b[0;32m-> 3662\u001b[0;31m         \u001b[0mTurtle\u001b[0m\u001b[0;34m.\u001b[0m\u001b[0m_screen\u001b[0m \u001b[0;34m=\u001b[0m \u001b[0m_Screen\u001b[0m\u001b[0;34m(\u001b[0m\u001b[0;34m)\u001b[0m\u001b[0;34m\u001b[0m\u001b[0;34m\u001b[0m\u001b[0m\n\u001b[0m\u001b[1;32m   3663\u001b[0m     \u001b[0;32mreturn\u001b[0m \u001b[0mTurtle\u001b[0m\u001b[0;34m.\u001b[0m\u001b[0m_screen\u001b[0m\u001b[0;34m\u001b[0m\u001b[0;34m\u001b[0m\u001b[0m\n\u001b[1;32m   3664\u001b[0m \u001b[0;34m\u001b[0m\u001b[0m\n",
            "\u001b[0;32m/usr/lib/python3.6/turtle.py\u001b[0m in \u001b[0;36m__init__\u001b[0;34m(self)\u001b[0m\n\u001b[1;32m   3676\u001b[0m         \u001b[0;31m# preserved (perhaps by passing it as an optional parameter)\u001b[0m\u001b[0;34m\u001b[0m\u001b[0;34m\u001b[0m\u001b[0;34m\u001b[0m\u001b[0m\n\u001b[1;32m   3677\u001b[0m         \u001b[0;32mif\u001b[0m \u001b[0m_Screen\u001b[0m\u001b[0;34m.\u001b[0m\u001b[0m_root\u001b[0m \u001b[0;32mis\u001b[0m \u001b[0;32mNone\u001b[0m\u001b[0;34m:\u001b[0m\u001b[0;34m\u001b[0m\u001b[0;34m\u001b[0m\u001b[0m\n\u001b[0;32m-> 3678\u001b[0;31m             \u001b[0m_Screen\u001b[0m\u001b[0;34m.\u001b[0m\u001b[0m_root\u001b[0m \u001b[0;34m=\u001b[0m \u001b[0mself\u001b[0m\u001b[0;34m.\u001b[0m\u001b[0m_root\u001b[0m \u001b[0;34m=\u001b[0m \u001b[0m_Root\u001b[0m\u001b[0;34m(\u001b[0m\u001b[0;34m)\u001b[0m\u001b[0;34m\u001b[0m\u001b[0;34m\u001b[0m\u001b[0m\n\u001b[0m\u001b[1;32m   3679\u001b[0m             \u001b[0mself\u001b[0m\u001b[0;34m.\u001b[0m\u001b[0m_root\u001b[0m\u001b[0;34m.\u001b[0m\u001b[0mtitle\u001b[0m\u001b[0;34m(\u001b[0m\u001b[0m_Screen\u001b[0m\u001b[0;34m.\u001b[0m\u001b[0m_title\u001b[0m\u001b[0;34m)\u001b[0m\u001b[0;34m\u001b[0m\u001b[0;34m\u001b[0m\u001b[0m\n\u001b[1;32m   3680\u001b[0m             \u001b[0mself\u001b[0m\u001b[0;34m.\u001b[0m\u001b[0m_root\u001b[0m\u001b[0;34m.\u001b[0m\u001b[0mondestroy\u001b[0m\u001b[0;34m(\u001b[0m\u001b[0mself\u001b[0m\u001b[0;34m.\u001b[0m\u001b[0m_destroy\u001b[0m\u001b[0;34m)\u001b[0m\u001b[0;34m\u001b[0m\u001b[0;34m\u001b[0m\u001b[0m\n",
            "\u001b[0;32m/usr/lib/python3.6/turtle.py\u001b[0m in \u001b[0;36m__init__\u001b[0;34m(self)\u001b[0m\n\u001b[1;32m    432\u001b[0m     \u001b[0;34m\"\"\"Root class for Screen based on Tkinter.\"\"\"\u001b[0m\u001b[0;34m\u001b[0m\u001b[0;34m\u001b[0m\u001b[0m\n\u001b[1;32m    433\u001b[0m     \u001b[0;32mdef\u001b[0m \u001b[0m__init__\u001b[0m\u001b[0;34m(\u001b[0m\u001b[0mself\u001b[0m\u001b[0;34m)\u001b[0m\u001b[0;34m:\u001b[0m\u001b[0;34m\u001b[0m\u001b[0;34m\u001b[0m\u001b[0m\n\u001b[0;32m--> 434\u001b[0;31m         \u001b[0mTK\u001b[0m\u001b[0;34m.\u001b[0m\u001b[0mTk\u001b[0m\u001b[0;34m.\u001b[0m\u001b[0m__init__\u001b[0m\u001b[0;34m(\u001b[0m\u001b[0mself\u001b[0m\u001b[0;34m)\u001b[0m\u001b[0;34m\u001b[0m\u001b[0;34m\u001b[0m\u001b[0m\n\u001b[0m\u001b[1;32m    435\u001b[0m \u001b[0;34m\u001b[0m\u001b[0m\n\u001b[1;32m    436\u001b[0m     \u001b[0;32mdef\u001b[0m \u001b[0msetupcanvas\u001b[0m\u001b[0;34m(\u001b[0m\u001b[0mself\u001b[0m\u001b[0;34m,\u001b[0m \u001b[0mwidth\u001b[0m\u001b[0;34m,\u001b[0m \u001b[0mheight\u001b[0m\u001b[0;34m,\u001b[0m \u001b[0mcwidth\u001b[0m\u001b[0;34m,\u001b[0m \u001b[0mcheight\u001b[0m\u001b[0;34m)\u001b[0m\u001b[0;34m:\u001b[0m\u001b[0;34m\u001b[0m\u001b[0;34m\u001b[0m\u001b[0m\n",
            "\u001b[0;32m/usr/lib/python3.6/tkinter/__init__.py\u001b[0m in \u001b[0;36m__init__\u001b[0;34m(self, screenName, baseName, className, useTk, sync, use)\u001b[0m\n\u001b[1;32m   2021\u001b[0m                 \u001b[0mbaseName\u001b[0m \u001b[0;34m=\u001b[0m \u001b[0mbaseName\u001b[0m \u001b[0;34m+\u001b[0m \u001b[0mext\u001b[0m\u001b[0;34m\u001b[0m\u001b[0;34m\u001b[0m\u001b[0m\n\u001b[1;32m   2022\u001b[0m         \u001b[0minteractive\u001b[0m \u001b[0;34m=\u001b[0m \u001b[0;36m0\u001b[0m\u001b[0;34m\u001b[0m\u001b[0;34m\u001b[0m\u001b[0m\n\u001b[0;32m-> 2023\u001b[0;31m         \u001b[0mself\u001b[0m\u001b[0;34m.\u001b[0m\u001b[0mtk\u001b[0m \u001b[0;34m=\u001b[0m \u001b[0m_tkinter\u001b[0m\u001b[0;34m.\u001b[0m\u001b[0mcreate\u001b[0m\u001b[0;34m(\u001b[0m\u001b[0mscreenName\u001b[0m\u001b[0;34m,\u001b[0m \u001b[0mbaseName\u001b[0m\u001b[0;34m,\u001b[0m \u001b[0mclassName\u001b[0m\u001b[0;34m,\u001b[0m \u001b[0minteractive\u001b[0m\u001b[0;34m,\u001b[0m \u001b[0mwantobjects\u001b[0m\u001b[0;34m,\u001b[0m \u001b[0museTk\u001b[0m\u001b[0;34m,\u001b[0m \u001b[0msync\u001b[0m\u001b[0;34m,\u001b[0m \u001b[0muse\u001b[0m\u001b[0;34m)\u001b[0m\u001b[0;34m\u001b[0m\u001b[0;34m\u001b[0m\u001b[0m\n\u001b[0m\u001b[1;32m   2024\u001b[0m         \u001b[0;32mif\u001b[0m \u001b[0museTk\u001b[0m\u001b[0;34m:\u001b[0m\u001b[0;34m\u001b[0m\u001b[0;34m\u001b[0m\u001b[0m\n\u001b[1;32m   2025\u001b[0m             \u001b[0mself\u001b[0m\u001b[0;34m.\u001b[0m\u001b[0m_loadtk\u001b[0m\u001b[0;34m(\u001b[0m\u001b[0;34m)\u001b[0m\u001b[0;34m\u001b[0m\u001b[0;34m\u001b[0m\u001b[0m\n",
            "\u001b[0;31mTclError\u001b[0m: no display name and no $DISPLAY environment variable"
          ]
        }
      ]
    },
    {
      "metadata": {
        "id": "pskE1kBbEguq",
        "colab_type": "code",
        "colab": {
          "base_uri": "https://localhost:8080/",
          "height": 170
        },
        "outputId": "345d079f-2ebf-4e01-dc30-ee746a7893af"
      },
      "cell_type": "code",
      "source": [
        "import math # import Math module to use the math functions\n",
        " \n",
        "# Test algebraic functions\n",
        "print(\"exp(1.0) =\", math.exp(1))\n",
        "print(\"log(3.78) =\", math.log(math.e))\n",
        "print(\"log10(10, 10) =\", math.log(10, 10))\n",
        "print(\"sqrt(4.0) =\", math.sqrt(4.0))\n",
        " \n",
        "# Test trigonometric functions\n",
        "print(\"sin(PI / 2) =\", math.sin(math.pi / 2))\n",
        "print(\"cos(PI / 2) =\", math.cos(math.pi / 2))\n",
        "print(\"tan(PI / 2) =\", math.tan(math.pi / 2))\n",
        "print(\"degrees(1.57) =\", math.degrees(1.57))\n",
        "print(\"radians(90) =\", math.radians(90))"
      ],
      "execution_count": 14,
      "outputs": [
        {
          "output_type": "stream",
          "text": [
            "exp(1.0) = 2.718281828459045\n",
            "log(3.78) = 1.0\n",
            "log10(10, 10) = 1.0\n",
            "sqrt(4.0) = 2.0\n",
            "sin(PI / 2) = 1.0\n",
            "cos(PI / 2) = 6.123233995736766e-17\n",
            "tan(PI / 2) = 1.633123935319537e+16\n",
            "degrees(1.57) = 89.95437383553924\n",
            "radians(90) = 1.5707963267948966\n"
          ],
          "name": "stdout"
        }
      ]
    },
    {
      "metadata": {
        "id": "tyaSrwoxE_Gr",
        "colab_type": "code",
        "colab": {
          "base_uri": "https://localhost:8080/",
          "height": 51
        },
        "outputId": "c112f866-e4a7-4cd3-9312-02de23e3dbe7"
      },
      "cell_type": "code",
      "source": [
        "import math\n",
        "\n",
        "x1, y1, x2, y2, x3, y3 = eval(input(\"Enter six coordinates of three points \\\n",
        "separated by commas like x1, y1, x2, y2, x3, y3: \"))\n",
        " \n",
        "a = math.sqrt((x2 - x3) * (x2 - x3) + (y2 - y3) * (y2 - y3))\n",
        "b = math.sqrt((x1 - x3) * (x1 - x3) + (y1 - y3) * (y1 - y3))\n",
        "c = math.sqrt((x1 - x2) * (x1 - x2) + (y1 - y2) * (y1 - y2))\n",
        "\n",
        "A = math.degrees(math.acos((a * a - b * b - c * c) / (-2 * b * c)))\n",
        "B = math.degrees(math.acos((b * b - a * a - c * c) / (-2 * a * c)))\n",
        "C = math.degrees(math.acos((c * c - b * b - a * a) / (-2 * a * b)))\n",
        "\n",
        "print(\"The three angles are \", round(A * 100) / 100.0,  \n",
        "    round(B * 100) / 100.0, round(C * 100) / 100.0)\n",
        "\n"
      ],
      "execution_count": 15,
      "outputs": [
        {
          "output_type": "stream",
          "text": [
            "Enter six coordinates of three points separated by commas like x1, y1, x2, y2, x3, y3: 1,1,6.5,1,6.5,2.5\n",
            "The three angles are  15.26 90.0 74.74\n"
          ],
          "name": "stdout"
        }
      ]
    },
    {
      "metadata": {
        "id": "tb1Hh1jfF_MT",
        "colab_type": "code",
        "colab": {
          "base_uri": "https://localhost:8080/",
          "height": 136
        },
        "outputId": "98d2b944-f0d7-4ebd-8e3c-3cf3aea3e1f1"
      },
      "cell_type": "code",
      "source": [
        "# Receive the amount \n",
        "amount = eval(input(\"Enter an amount in double, e.g., 11.56: \"))\n",
        "\n",
        "# Convert the amount to cents\n",
        "remainingAmount = int(amount * 100)\n",
        "\n",
        "# Find the number of one dollars\n",
        "numberOfOneDollars = int(remainingAmount / 100)\n",
        "remainingAmount = int(remainingAmount % 100)\n",
        "\n",
        "# Find the number of quarters in the remaining amount\n",
        "numberOfQuarters = int(remainingAmount / 25)\n",
        "remainingAmount = remainingAmount % 25\n",
        "\n",
        "# Find the number of dimes in the remaining amount\n",
        "numberOfDimes = int(remainingAmount / 10)\n",
        "remainingAmount = remainingAmount % 10\n",
        "\n",
        "# Find the number of nickels in the remaining amount\n",
        "numberOfNickels = int(remainingAmount / 5)\n",
        "remainingAmount = remainingAmount % 5\n",
        "\n",
        "# Find the number of pennies in the remaining amount\n",
        "numberOfPennies = remainingAmount\n",
        "\n",
        "# Display results\n",
        "print(\"Your amount\", amount, \"consists of\\n\", \n",
        "    \"\\t\", numberOfOneDollars, \"dollars\\n\", \n",
        "    \"\\t\", numberOfQuarters, \"quarters\\n\",\n",
        "    \"\\t\", numberOfDimes,  \"dimes\\n\",\n",
        "    \"\\t\", numberOfNickels, \"nickels\\n\",\n",
        "    \"\\t\", numberOfPennies, \"pennies\")\n"
      ],
      "execution_count": 17,
      "outputs": [
        {
          "output_type": "stream",
          "text": [
            "Enter an amount in double, e.g., 11.56: 11.56\n",
            "Your amount 11.56 consists of\n",
            " \t 11 dollars\n",
            " \t 2 quarters\n",
            " \t 0 dimes\n",
            " \t 1 nickels\n",
            " \t 1 pennies\n"
          ],
          "name": "stdout"
        }
      ]
    },
    {
      "metadata": {
        "id": "ivf-IcV1G2nK",
        "colab_type": "code",
        "colab": {
          "base_uri": "https://localhost:8080/",
          "height": 51
        },
        "outputId": "fb574890-2b2c-4dcf-d6fd-e68bc9b39eb9"
      },
      "cell_type": "code",
      "source": [
        "import random \n",
        "\n",
        "# Generate random numbers\n",
        "number1 = random.randint(0, 9)\n",
        "number2 = random.randint(0, 9)\n",
        "\n",
        "# Prompt the user to enter an answer\n",
        "answer = eval(input(\"What is \" + str(number1) + \" + \" \n",
        "    + str(number2) + \"? \"))\n",
        "    \n",
        "# Display result    \n",
        "print(number1, \"+\", number2, \"=\", answer, \n",
        "    \"is\", number1 + number2 == answer)"
      ],
      "execution_count": 18,
      "outputs": [
        {
          "output_type": "stream",
          "text": [
            "What is 5 + 1? 6\n",
            "5 + 1 = 6 is True\n"
          ],
          "name": "stdout"
        }
      ]
    },
    {
      "metadata": {
        "id": "YXKiLeYYG7ni",
        "colab_type": "code",
        "colab": {
          "base_uri": "https://localhost:8080/",
          "height": 51
        },
        "outputId": "6964fa95-f73e-47cc-9186-bc58e73b505c"
      },
      "cell_type": "code",
      "source": [
        "number = eval(input(\"Enter an integer: \"))\n",
        "\n",
        "if number % 5 == 0 :\n",
        "   print(\"HiFive\");\n",
        "\n",
        "if number % 2 == 0 :\n",
        "   print(\"HiEven\");"
      ],
      "execution_count": 19,
      "outputs": [
        {
          "output_type": "stream",
          "text": [
            "Enter an integer: 4\n",
            "HiEven\n"
          ],
          "name": "stdout"
        }
      ]
    },
    {
      "metadata": {
        "id": "AvPnZSqVHHw6",
        "colab_type": "code",
        "colab": {
          "base_uri": "https://localhost:8080/",
          "height": 561
        },
        "outputId": "c2fe19cc-a731-4b5e-84c5-05078dbc86c7"
      },
      "cell_type": "code",
      "source": [
        "day = 0 # birth day to be determined\n",
        "  \n",
        "# Prompt the user to answer the first question\n",
        "question1 = \"Is your birthday in Set1?\\n\" + \\\n",
        "    \" 1  3  5  7\\n\" + \\\n",
        "    \" 9 11 13 15\\n\" + \\\n",
        "    \"17 19 21 23\\n\" + \\\n",
        "    \"25 27 29 31\" + \\\n",
        "    \"\\nEnter 0 for No and 1 for Yes: \" \n",
        "answer = eval(input(question1))\n",
        "  \n",
        "if answer == 1:\n",
        "   day += 1\n",
        " \n",
        "# Prompt the user to answer the second question\n",
        "question2 = \"Is your birthday in Set2?\\n\" + \\\n",
        "    \" 2  3  6  7\\n\" + \\\n",
        "    \"10 11 14 15\\n\" + \\\n",
        "    \"18 19 22 23\\n\" + \\\n",
        "    \"26 27 30 31\" + \\\n",
        "    \"\\nEnter 0 for No and 1 for Yes: \" \n",
        "answer = eval(input(question2))\n",
        "  \n",
        "if answer == 1:\n",
        "   day += 2\n",
        " \n",
        "# Prompt the user to answer the third question\n",
        "question3 = \"Is your birthday in Set3?\\n\" + \\\n",
        "    \" 4  5  6  7\\n\" + \\\n",
        "    \"12 13 14 15\\n\" + \\\n",
        "    \"20 21 22 23\\n\" + \\\n",
        "    \"28 29 30 31\" + \\\n",
        "    \"\\nEnter 0 for No and 1 for Yes: \" \n",
        "answer = eval(input(question3))\n",
        "  \n",
        "if answer == 1:\n",
        "   day += 4\n",
        "  \n",
        "# Prompt the user to answer the fourth question\n",
        "question4 = \"Is your birthday in Set4?\\n\" + \\\n",
        "    \" 8  9 10 11\\n\" + \\\n",
        "    \"12 13 14 15\\n\" + \\\n",
        "    \"24 25 26 27\\n\" + \\\n",
        "    \"28 29 30 31\" + \\\n",
        "    \"\\nEnter 0 for No and 1 for Yes: \" \n",
        "answer = eval(input(question4))\n",
        "  \n",
        "if answer == 1:\n",
        "    day += 8\n",
        "  \n",
        "# Prompt the user to answer the fifth question\n",
        "question5 = \"Is your birthday in Set5?\\n\" + \\\n",
        "    \"16 17 18 19\\n\" + \\\n",
        "    \"20 21 22 23\\n\" + \\\n",
        "    \"24 25 26 27\\n\" + \\\n",
        "    \"28 29 30 31\" + \\\n",
        "    \"\\nEnter 0 for No and 1 for Yes: \" \n",
        "answer = eval(input(question5))\n",
        "  \n",
        "if answer == 1:\n",
        "    day += 16\n",
        "\n",
        "print(\"\\nYour birthday is\" + str(day) + \"!\")"
      ],
      "execution_count": 20,
      "outputs": [
        {
          "output_type": "stream",
          "text": [
            "Is your birthday in Set1?\n",
            " 1  3  5  7\n",
            " 9 11 13 15\n",
            "17 19 21 23\n",
            "25 27 29 31\n",
            "Enter 0 for No and 1 for Yes: 1\n",
            "Is your birthday in Set2?\n",
            " 2  3  6  7\n",
            "10 11 14 15\n",
            "18 19 22 23\n",
            "26 27 30 31\n",
            "Enter 0 for No and 1 for Yes: 1\n",
            "Is your birthday in Set3?\n",
            " 4  5  6  7\n",
            "12 13 14 15\n",
            "20 21 22 23\n",
            "28 29 30 31\n",
            "Enter 0 for No and 1 for Yes: 0\n",
            "Is your birthday in Set4?\n",
            " 8  9 10 11\n",
            "12 13 14 15\n",
            "24 25 26 27\n",
            "28 29 30 31\n",
            "Enter 0 for No and 1 for Yes: 0\n",
            "Is your birthday in Set5?\n",
            "16 17 18 19\n",
            "20 21 22 23\n",
            "24 25 26 27\n",
            "28 29 30 31\n",
            "Enter 0 for No and 1 for Yes: 1\n",
            "\n",
            "Your birthday is19!\n"
          ],
          "name": "stdout"
        }
      ]
    },
    {
      "metadata": {
        "id": "8Ha_8idpHdea",
        "colab_type": "code",
        "colab": {
          "base_uri": "https://localhost:8080/",
          "height": 51
        },
        "outputId": "2d5c6c1b-dac8-43fb-8616-a23369d2537f"
      },
      "cell_type": "code",
      "source": [
        "import random\n",
        "\n",
        "# 1. Generate two random single-digit integers\n",
        "number1 = random.randint(0, 9)\n",
        "number2 = random.randint(0, 9)\n",
        "\n",
        "# 2. If number1 < number2, swap number1 with number2\n",
        "if number1 < number2:\n",
        "    number1, number2 = number2, number1 # Simultaneous assignment\n",
        "\n",
        "# 4. Prompt the student to answer \"what is number1 - number2?\"\n",
        "answer = eval(input(\"What is \" + str(number1) + \" - \" + \n",
        "    str(number2) + \"? \"))\n",
        "\n",
        "# 4. Grade the answer and display the result\n",
        "if number1 - number2 == answer:\n",
        "    print(\"You are correct!\")\n",
        "else:\n",
        "    print(\"Your answer is wrong.\\n\", number1, \"-\",\n",
        "        number2, \"is\", number1 - number2)"
      ],
      "execution_count": 21,
      "outputs": [
        {
          "output_type": "stream",
          "text": [
            "What is 9 - 3? 6\n",
            "You are correct!\n"
          ],
          "name": "stdout"
        }
      ]
    },
    {
      "metadata": {
        "id": "DehEW_HaH9Wa",
        "colab_type": "code",
        "colab": {
          "base_uri": "https://localhost:8080/",
          "height": 51
        },
        "outputId": "dd5d0ab8-c021-4d7d-c5cc-8dddbb7d47a6"
      },
      "cell_type": "code",
      "source": [
        "year = eval(input(\"Enter a year: \"))\n",
        "zodiacYear = year % 12 \n",
        "if zodiacYear == 0:\n",
        "    print(\"monkey\")\n",
        "elif zodiacYear == 1:\n",
        "    print(\"rooster\")\n",
        "elif zodiacYear == 2:\n",
        "    print(\"dog\")\n",
        "elif zodiacYear == 3:\n",
        "    print(\"pig\")\n",
        "elif zodiacYear == 4: \n",
        "    print(\"rat\")\n",
        "elif zodiacYear == 5: \n",
        "    print(\"ox\")\n",
        "elif zodiacYear == 6:\n",
        "    print(\"tiger\")\n",
        "elif zodiacYear == 7:\n",
        "    print(\"rabbit\")\n",
        "elif zodiacYear == 8:\n",
        "    print(\"dragon\")\n",
        "elif zodiacYear == 9:\n",
        "    print(\"snake\")\n",
        "elif zodiacYear == 10:\n",
        "    print(\"horse\")\n",
        "else: \n",
        "    print(\"sheep\")"
      ],
      "execution_count": 22,
      "outputs": [
        {
          "output_type": "stream",
          "text": [
            "Enter a year: 1997\n",
            "ox\n"
          ],
          "name": "stdout"
        }
      ]
    }
  ]
}