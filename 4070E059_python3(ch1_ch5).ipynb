{
  "nbformat": 4,
  "nbformat_minor": 0,
  "metadata": {
    "colab": {
      "name": "4070E059-python3(ch1-ch5).ipynb",
      "version": "0.3.2",
      "provenance": [],
      "collapsed_sections": [],
      "include_colab_link": true
    },
    "kernelspec": {
      "name": "python3",
      "display_name": "Python 3"
    }
  },
  "cells": [
    {
      "cell_type": "markdown",
      "metadata": {
        "id": "view-in-github",
        "colab_type": "text"
      },
      "source": [
        "<a href=\"https://colab.research.google.com/github/S107001896/google-colab/blob/master/4070E059_python3(ch1_ch5).ipynb\" target=\"_parent\"><img src=\"https://colab.research.google.com/assets/colab-badge.svg\" alt=\"Open In Colab\"/></a>"
      ]
    },
    {
      "metadata": {
        "id": "xCl0lr5BBZN2",
        "colab_type": "code",
        "colab": {
          "base_uri": "https://localhost:8080/",
          "height": 34
        },
        "outputId": "c391110d-844e-49f1-ad71-c77c91f59cf0"
      },
      "cell_type": "code",
      "source": [
        "# Assign a radius\n",
        "radius = 20 # radius is now 20\n",
        "\n",
        "# Compute area\n",
        "area = radius * radius * 3.14159\n",
        "\n",
        "# Display results\n",
        "print(\"The area for the circle of radius\", radius, \"is\", area)"
      ],
      "execution_count": 9,
      "outputs": [
        {
          "output_type": "stream",
          "text": [
            "The area for the circle of radius 20 is 1256.636\n"
          ],
          "name": "stdout"
        }
      ]
    },
    {
      "metadata": {
        "id": "lD9dXH0ECthE",
        "colab_type": "code",
        "colab": {
          "base_uri": "https://localhost:8080/",
          "height": 947
        },
        "outputId": "9a375376-23e2-43a9-ab20-81d087bf1288"
      },
      "cell_type": "code",
      "source": [
        "# Prompt the user to enter a radius\n",
        "radius = eval(input(\"Enter a number for radius: \"))\n",
        "\n",
        "# Compute area\n",
        "area = radius * radius * 3.14159\n",
        "\n",
        "# Display results\n",
        "print(\"The area for the circle of radius\", radius, \"is\", area)"
      ],
      "execution_count": 10,
      "outputs": [
        {
          "output_type": "error",
          "ename": "KeyboardInterrupt",
          "evalue": "ignored",
          "traceback": [
            "\u001b[0;31m---------------------------------------------------------------------------\u001b[0m",
            "\u001b[0;31mKeyboardInterrupt\u001b[0m                         Traceback (most recent call last)",
            "\u001b[0;32m/usr/local/lib/python3.6/dist-packages/ipykernel/kernelbase.py\u001b[0m in \u001b[0;36m_input_request\u001b[0;34m(self, prompt, ident, parent, password)\u001b[0m\n\u001b[1;32m    729\u001b[0m             \u001b[0;32mtry\u001b[0m\u001b[0;34m:\u001b[0m\u001b[0;34m\u001b[0m\u001b[0;34m\u001b[0m\u001b[0m\n\u001b[0;32m--> 730\u001b[0;31m                 \u001b[0mident\u001b[0m\u001b[0;34m,\u001b[0m \u001b[0mreply\u001b[0m \u001b[0;34m=\u001b[0m \u001b[0mself\u001b[0m\u001b[0;34m.\u001b[0m\u001b[0msession\u001b[0m\u001b[0;34m.\u001b[0m\u001b[0mrecv\u001b[0m\u001b[0;34m(\u001b[0m\u001b[0mself\u001b[0m\u001b[0;34m.\u001b[0m\u001b[0mstdin_socket\u001b[0m\u001b[0;34m,\u001b[0m \u001b[0;36m0\u001b[0m\u001b[0;34m)\u001b[0m\u001b[0;34m\u001b[0m\u001b[0;34m\u001b[0m\u001b[0m\n\u001b[0m\u001b[1;32m    731\u001b[0m             \u001b[0;32mexcept\u001b[0m \u001b[0mException\u001b[0m\u001b[0;34m:\u001b[0m\u001b[0;34m\u001b[0m\u001b[0;34m\u001b[0m\u001b[0m\n",
            "\u001b[0;32m/usr/local/lib/python3.6/dist-packages/jupyter_client/session.py\u001b[0m in \u001b[0;36mrecv\u001b[0;34m(self, socket, mode, content, copy)\u001b[0m\n\u001b[1;32m    802\u001b[0m         \u001b[0;32mtry\u001b[0m\u001b[0;34m:\u001b[0m\u001b[0;34m\u001b[0m\u001b[0;34m\u001b[0m\u001b[0m\n\u001b[0;32m--> 803\u001b[0;31m             \u001b[0mmsg_list\u001b[0m \u001b[0;34m=\u001b[0m \u001b[0msocket\u001b[0m\u001b[0;34m.\u001b[0m\u001b[0mrecv_multipart\u001b[0m\u001b[0;34m(\u001b[0m\u001b[0mmode\u001b[0m\u001b[0;34m,\u001b[0m \u001b[0mcopy\u001b[0m\u001b[0;34m=\u001b[0m\u001b[0mcopy\u001b[0m\u001b[0;34m)\u001b[0m\u001b[0;34m\u001b[0m\u001b[0;34m\u001b[0m\u001b[0m\n\u001b[0m\u001b[1;32m    804\u001b[0m         \u001b[0;32mexcept\u001b[0m \u001b[0mzmq\u001b[0m\u001b[0;34m.\u001b[0m\u001b[0mZMQError\u001b[0m \u001b[0;32mas\u001b[0m \u001b[0me\u001b[0m\u001b[0;34m:\u001b[0m\u001b[0;34m\u001b[0m\u001b[0;34m\u001b[0m\u001b[0m\n",
            "\u001b[0;32m/usr/local/lib/python3.6/dist-packages/zmq/sugar/socket.py\u001b[0m in \u001b[0;36mrecv_multipart\u001b[0;34m(self, flags, copy, track)\u001b[0m\n\u001b[1;32m    465\u001b[0m         \"\"\"\n\u001b[0;32m--> 466\u001b[0;31m         \u001b[0mparts\u001b[0m \u001b[0;34m=\u001b[0m \u001b[0;34m[\u001b[0m\u001b[0mself\u001b[0m\u001b[0;34m.\u001b[0m\u001b[0mrecv\u001b[0m\u001b[0;34m(\u001b[0m\u001b[0mflags\u001b[0m\u001b[0;34m,\u001b[0m \u001b[0mcopy\u001b[0m\u001b[0;34m=\u001b[0m\u001b[0mcopy\u001b[0m\u001b[0;34m,\u001b[0m \u001b[0mtrack\u001b[0m\u001b[0;34m=\u001b[0m\u001b[0mtrack\u001b[0m\u001b[0;34m)\u001b[0m\u001b[0;34m]\u001b[0m\u001b[0;34m\u001b[0m\u001b[0;34m\u001b[0m\u001b[0m\n\u001b[0m\u001b[1;32m    467\u001b[0m         \u001b[0;31m# have first part already, only loop while more to receive\u001b[0m\u001b[0;34m\u001b[0m\u001b[0;34m\u001b[0m\u001b[0;34m\u001b[0m\u001b[0m\n",
            "\u001b[0;32mzmq/backend/cython/socket.pyx\u001b[0m in \u001b[0;36mzmq.backend.cython.socket.Socket.recv\u001b[0;34m()\u001b[0m\n",
            "\u001b[0;32mzmq/backend/cython/socket.pyx\u001b[0m in \u001b[0;36mzmq.backend.cython.socket.Socket.recv\u001b[0;34m()\u001b[0m\n",
            "\u001b[0;32mzmq/backend/cython/socket.pyx\u001b[0m in \u001b[0;36mzmq.backend.cython.socket._recv_copy\u001b[0;34m()\u001b[0m\n",
            "\u001b[0;32m/usr/local/lib/python3.6/dist-packages/zmq/backend/cython/checkrc.pxd\u001b[0m in \u001b[0;36mzmq.backend.cython.checkrc._check_rc\u001b[0;34m()\u001b[0m\n",
            "\u001b[0;31mKeyboardInterrupt\u001b[0m: ",
            "\nDuring handling of the above exception, another exception occurred:\n",
            "\u001b[0;31mKeyboardInterrupt\u001b[0m                         Traceback (most recent call last)",
            "\u001b[0;32m<ipython-input-10-106148bef903>\u001b[0m in \u001b[0;36m<module>\u001b[0;34m()\u001b[0m\n\u001b[0;32m----> 1\u001b[0;31m \u001b[0mradius\u001b[0m \u001b[0;34m=\u001b[0m \u001b[0meval\u001b[0m\u001b[0;34m(\u001b[0m\u001b[0minput\u001b[0m\u001b[0;34m(\u001b[0m\u001b[0;34m\"Enter a number for radius: \"\u001b[0m\u001b[0;34m)\u001b[0m\u001b[0;34m)\u001b[0m\u001b[0;34m\u001b[0m\u001b[0;34m\u001b[0m\u001b[0m\n\u001b[0m\u001b[1;32m      2\u001b[0m \u001b[0;34m\u001b[0m\u001b[0m\n\u001b[1;32m      3\u001b[0m \u001b[0;31m# Compute area\u001b[0m\u001b[0;34m\u001b[0m\u001b[0;34m\u001b[0m\u001b[0;34m\u001b[0m\u001b[0m\n\u001b[1;32m      4\u001b[0m \u001b[0marea\u001b[0m \u001b[0;34m=\u001b[0m \u001b[0mradius\u001b[0m \u001b[0;34m*\u001b[0m \u001b[0mradius\u001b[0m \u001b[0;34m*\u001b[0m \u001b[0;36m3.14159\u001b[0m\u001b[0;34m\u001b[0m\u001b[0;34m\u001b[0m\u001b[0m\n\u001b[1;32m      5\u001b[0m \u001b[0;34m\u001b[0m\u001b[0m\n",
            "\u001b[0;32m/usr/local/lib/python3.6/dist-packages/ipykernel/kernelbase.py\u001b[0m in \u001b[0;36mraw_input\u001b[0;34m(self, prompt)\u001b[0m\n\u001b[1;32m    703\u001b[0m             \u001b[0mself\u001b[0m\u001b[0;34m.\u001b[0m\u001b[0m_parent_ident\u001b[0m\u001b[0;34m,\u001b[0m\u001b[0;34m\u001b[0m\u001b[0;34m\u001b[0m\u001b[0m\n\u001b[1;32m    704\u001b[0m             \u001b[0mself\u001b[0m\u001b[0;34m.\u001b[0m\u001b[0m_parent_header\u001b[0m\u001b[0;34m,\u001b[0m\u001b[0;34m\u001b[0m\u001b[0;34m\u001b[0m\u001b[0m\n\u001b[0;32m--> 705\u001b[0;31m             \u001b[0mpassword\u001b[0m\u001b[0;34m=\u001b[0m\u001b[0;32mFalse\u001b[0m\u001b[0;34m,\u001b[0m\u001b[0;34m\u001b[0m\u001b[0;34m\u001b[0m\u001b[0m\n\u001b[0m\u001b[1;32m    706\u001b[0m         )\n\u001b[1;32m    707\u001b[0m \u001b[0;34m\u001b[0m\u001b[0m\n",
            "\u001b[0;32m/usr/local/lib/python3.6/dist-packages/ipykernel/kernelbase.py\u001b[0m in \u001b[0;36m_input_request\u001b[0;34m(self, prompt, ident, parent, password)\u001b[0m\n\u001b[1;32m    733\u001b[0m             \u001b[0;32mexcept\u001b[0m \u001b[0mKeyboardInterrupt\u001b[0m\u001b[0;34m:\u001b[0m\u001b[0;34m\u001b[0m\u001b[0;34m\u001b[0m\u001b[0m\n\u001b[1;32m    734\u001b[0m                 \u001b[0;31m# re-raise KeyboardInterrupt, to truncate traceback\u001b[0m\u001b[0;34m\u001b[0m\u001b[0;34m\u001b[0m\u001b[0;34m\u001b[0m\u001b[0m\n\u001b[0;32m--> 735\u001b[0;31m                 \u001b[0;32mraise\u001b[0m \u001b[0mKeyboardInterrupt\u001b[0m\u001b[0;34m\u001b[0m\u001b[0;34m\u001b[0m\u001b[0m\n\u001b[0m\u001b[1;32m    736\u001b[0m             \u001b[0;32melse\u001b[0m\u001b[0;34m:\u001b[0m\u001b[0;34m\u001b[0m\u001b[0;34m\u001b[0m\u001b[0m\n\u001b[1;32m    737\u001b[0m                 \u001b[0;32mbreak\u001b[0m\u001b[0;34m\u001b[0m\u001b[0;34m\u001b[0m\u001b[0m\n",
            "\u001b[0;31mKeyboardInterrupt\u001b[0m: "
          ]
        }
      ]
    },
    {
      "metadata": {
        "id": "E9n6tISTC6y0",
        "colab_type": "code",
        "colab": {}
      },
      "cell_type": "code",
      "source": [
        "# Prompt the user to enter three numbers\n",
        "number1 = eval(input(\"Enter the first number: \"))\n",
        "number2 = eval(input(\"Enter the second number: \"))\n",
        "number3 = eval(input(\"Enter the third number: \"))\n",
        "\n",
        "# Compute average\n",
        "average = (number1 + number2 + number3) / 3\n",
        "\n",
        "# Display result\n",
        "print(\"The average of\", number1, number2, number3, \n",
        "    \"is\", average)"
      ],
      "execution_count": 0,
      "outputs": []
    },
    {
      "metadata": {
        "id": "6l5AFgcjDDD8",
        "colab_type": "code",
        "colab": {}
      },
      "cell_type": "code",
      "source": [
        "# Prompt the user to enter three numbers\n",
        "number1, number2, number3 = eval(input(\n",
        "  \"Enter three numbers separated by commas: \"))\n",
        "\n",
        "# Compute average\n",
        "average = (number1 + number2 + number3) / 3\n",
        "\n",
        "# Display result\n",
        "print(\"The average of\", number1, number2, number3,\n",
        "    \"is\", average)"
      ],
      "execution_count": 0,
      "outputs": []
    },
    {
      "metadata": {
        "id": "uBOI2CfEDQCL",
        "colab_type": "code",
        "colab": {}
      },
      "cell_type": "code",
      "source": [
        "# Prompt the user for input\n",
        "seconds = eval(input(\"Enter an integer for seconds: \"))\n",
        "\n",
        "# Get minutes and remaining seconds\n",
        "minutes = seconds // 60     # Find minutes in seconds\n",
        "remainingSeconds = seconds % 60   # Seconds remaining\n",
        "print(seconds, \"seconds is\", minutes,  \n",
        "  \"minutes and\", remainingSeconds, \"seconds\")"
      ],
      "execution_count": 0,
      "outputs": []
    },
    {
      "metadata": {
        "id": "zUwPzUnqDZZr",
        "colab_type": "code",
        "colab": {}
      },
      "cell_type": "code",
      "source": [
        "# Prompt the user for input\n",
        "purchaseAmount = eval(input(\"Enter purchase amount: \"))\n",
        "\n",
        "# Compute sales tax\n",
        "tax = purchaseAmount * 0.06\n",
        "\n",
        "# Display tax amount with two digits after decimal point\n",
        "print(\"Sales tax is\", int(tax * 100) / 100.0)"
      ],
      "execution_count": 0,
      "outputs": []
    },
    {
      "metadata": {
        "id": "er_m44FQDnIE",
        "colab_type": "code",
        "colab": {}
      },
      "cell_type": "code",
      "source": [
        "import time\n",
        "\n",
        "currentTime = time.time() # Get current time\n",
        "\n",
        "# Obtain the total seconds since midnight, Jan 1, 1970\n",
        "totalSeconds = int(currentTime)\n",
        "\n",
        "# Get the current second \n",
        "currentSecond = totalSeconds % 60 \n",
        "\n",
        "# Obtain the total minutes\n",
        "totalMinutes = totalSeconds // 60 \n",
        "\n",
        "# Compute the current minute in the hour\n",
        "currentMinute = totalMinutes % 60\n",
        "\n",
        "# Obtain the total hours\n",
        "totalHours = totalMinutes // 60\n",
        "\n",
        "# Compute the current hour\n",
        "currentHour = totalHours % 24\n",
        "\n",
        "# Display results\n",
        "print(\"Current time is \" + str(currentHour) + \":\"\n",
        "    + str(currentMinute) + \":\" + str(currentSecond) + \" GMT\")"
      ],
      "execution_count": 0,
      "outputs": []
    },
    {
      "metadata": {
        "id": "CjhOfAWQDxj0",
        "colab_type": "code",
        "colab": {
          "base_uri": "https://localhost:8080/",
          "height": 102
        },
        "outputId": "1d223bbc-cf79-421a-a0fe-d487140b5a89"
      },
      "cell_type": "code",
      "source": [
        "# Enter yearly interest rate\n",
        "annualInterestRate = eval(input(\n",
        "  \"Enter annual interest rate, e.g., 8.25: \"))\n",
        "monthlyInterestRate = annualInterestRate / 1200\n",
        "\n",
        "# Enter number of years\n",
        "numberOfYears = eval(input(\n",
        "  \"Enter number of years as an integer, e.g., 5: \"))\n",
        "    \n",
        "# Enter loan amount\n",
        "loanAmount = eval(input(\"Enter loan amount, e.g., 120000.95: \"))\n",
        "    \n",
        "# Calculate payment\n",
        "monthlyPayment = loanAmount * monthlyInterestRate / (1\n",
        "  - 1 / (1 + monthlyInterestRate) ** (numberOfYears * 12))\n",
        "totalPayment = monthlyPayment * numberOfYears * 12\n",
        "\n",
        "# Display results\n",
        "print(\"The monthly payment is\", int(monthlyPayment * 100) / 100)\n",
        "print(\"The total payment is\", int(totalPayment * 100) /100)"
      ],
      "execution_count": 11,
      "outputs": [
        {
          "output_type": "stream",
          "text": [
            "Enter annual interest rate, e.g., 8.25: 5.75\n",
            "Enter number of years as an integer, e.g., 5: 15\n",
            "Enter loan amount, e.g., 120000.95: 250000\n",
            "The monthly payment is 2076.02\n",
            "The total payment is 373684.53\n"
          ],
          "name": "stdout"
        }
      ]
    },
    {
      "metadata": {
        "id": "EyeLrbAtEHBr",
        "colab_type": "code",
        "colab": {
          "base_uri": "https://localhost:8080/",
          "height": 68
        },
        "outputId": "fb4e27c5-6036-45f7-d932-1ce3117c5ed8"
      },
      "cell_type": "code",
      "source": [
        "# Enter the first point with two double values\n",
        "x1, y1 = eval(input(\"Enter x1 and y1: \"))\n",
        "\n",
        "# Enter the second point with two double values\n",
        "x2, y2 = eval(input(\"Enter x2 and y2: \"))\n",
        " \n",
        "# Compute the distance\n",
        "distance = ((x1 - x2) * (x1 - x2) + (y1 - y2) * (y1 - y2)) ** 0.5\n",
        "    \n",
        "print(\"The distance between the two points is\", distance) "
      ],
      "execution_count": 12,
      "outputs": [
        {
          "output_type": "stream",
          "text": [
            "Enter x1 and y1: 1.5,-3.4\n",
            "Enter x2 and y2: 4,5\n",
            "The distance between the two points is 8.764131445842194\n"
          ],
          "name": "stdout"
        }
      ]
    },
    {
      "metadata": {
        "id": "58BaZcy0EVZT",
        "colab_type": "code",
        "colab": {
          "base_uri": "https://localhost:8080/",
          "height": 896
        },
        "outputId": "d0fd28ac-209b-4345-9990-d1f8d73bc339"
      },
      "cell_type": "code",
      "source": [
        "import turtle\n",
        "\n",
        "# Prompt the user for inputing two points\n",
        "x1, y1 = eval(input(\"Enter x1 and y1 for Point 1: \"))\n",
        "x2, y2 = eval(input(\"Enter x2 and y2 for Point 2: \"))\n",
        "              \n",
        "# Compute the distance\n",
        "distance = ((x1 - x2) ** 2 + (y1 - y2) ** 2) ** 0.5\n",
        "\n",
        "# Display two points and the connecting line\n",
        "turtle.penup()\n",
        "turtle.goto(x1, y1) # Move to (x1, y1)\n",
        "turtle.pendown()\n",
        "turtle.write(\"Point 1\") \n",
        "turtle.goto(x2, y2) # draw a line to (x2, y2)\n",
        "turtle.write(\"Point 2\")\n",
        "\n",
        "# Move to the center point of the line\n",
        "turtle.penup()\n",
        "turtle.goto((x1 + x2) / 2, (y1 + y2) / 2) \n",
        "turtle.write(distance)\n",
        "\n",
        "turtle.done() "
      ],
      "execution_count": 13,
      "outputs": [
        {
          "output_type": "stream",
          "text": [
            "Enter x1 and y1 for Point 1: -50,34\n",
            "Enter x2 and y2 for Point 2: 49,-85\n"
          ],
          "name": "stdout"
        },
        {
          "output_type": "error",
          "ename": "TclError",
          "evalue": "ignored",
          "traceback": [
            "\u001b[0;31m---------------------------------------------------------------------------\u001b[0m",
            "\u001b[0;31mTclError\u001b[0m                                  Traceback (most recent call last)",
            "\u001b[0;32m<ipython-input-13-d1d40b9f1a4e>\u001b[0m in \u001b[0;36m<module>\u001b[0;34m()\u001b[0m\n\u001b[1;32m      9\u001b[0m \u001b[0;34m\u001b[0m\u001b[0m\n\u001b[1;32m     10\u001b[0m \u001b[0;31m# Display two points and the connecting line\u001b[0m\u001b[0;34m\u001b[0m\u001b[0;34m\u001b[0m\u001b[0;34m\u001b[0m\u001b[0m\n\u001b[0;32m---> 11\u001b[0;31m \u001b[0mturtle\u001b[0m\u001b[0;34m.\u001b[0m\u001b[0mpenup\u001b[0m\u001b[0;34m(\u001b[0m\u001b[0;34m)\u001b[0m\u001b[0;34m\u001b[0m\u001b[0;34m\u001b[0m\u001b[0m\n\u001b[0m\u001b[1;32m     12\u001b[0m \u001b[0mturtle\u001b[0m\u001b[0;34m.\u001b[0m\u001b[0mgoto\u001b[0m\u001b[0;34m(\u001b[0m\u001b[0mx1\u001b[0m\u001b[0;34m,\u001b[0m \u001b[0my1\u001b[0m\u001b[0;34m)\u001b[0m \u001b[0;31m# Move to (x1, y1)\u001b[0m\u001b[0;34m\u001b[0m\u001b[0;34m\u001b[0m\u001b[0m\n\u001b[1;32m     13\u001b[0m \u001b[0mturtle\u001b[0m\u001b[0;34m.\u001b[0m\u001b[0mpendown\u001b[0m\u001b[0;34m(\u001b[0m\u001b[0;34m)\u001b[0m\u001b[0;34m\u001b[0m\u001b[0;34m\u001b[0m\u001b[0m\n",
            "\u001b[0;32m/usr/lib/python3.6/turtle.py\u001b[0m in \u001b[0;36mpenup\u001b[0;34m()\u001b[0m\n",
            "\u001b[0;32m/usr/lib/python3.6/turtle.py\u001b[0m in \u001b[0;36m__init__\u001b[0;34m(self, shape, undobuffersize, visible)\u001b[0m\n\u001b[1;32m   3810\u001b[0m                  visible=_CFG[\"visible\"]):\n\u001b[1;32m   3811\u001b[0m         \u001b[0;32mif\u001b[0m \u001b[0mTurtle\u001b[0m\u001b[0;34m.\u001b[0m\u001b[0m_screen\u001b[0m \u001b[0;32mis\u001b[0m \u001b[0;32mNone\u001b[0m\u001b[0;34m:\u001b[0m\u001b[0;34m\u001b[0m\u001b[0;34m\u001b[0m\u001b[0m\n\u001b[0;32m-> 3812\u001b[0;31m             \u001b[0mTurtle\u001b[0m\u001b[0;34m.\u001b[0m\u001b[0m_screen\u001b[0m \u001b[0;34m=\u001b[0m \u001b[0mScreen\u001b[0m\u001b[0;34m(\u001b[0m\u001b[0;34m)\u001b[0m\u001b[0;34m\u001b[0m\u001b[0;34m\u001b[0m\u001b[0m\n\u001b[0m\u001b[1;32m   3813\u001b[0m         RawTurtle.__init__(self, Turtle._screen,\n\u001b[1;32m   3814\u001b[0m                            \u001b[0mshape\u001b[0m\u001b[0;34m=\u001b[0m\u001b[0mshape\u001b[0m\u001b[0;34m,\u001b[0m\u001b[0;34m\u001b[0m\u001b[0;34m\u001b[0m\u001b[0m\n",
            "\u001b[0;32m/usr/lib/python3.6/turtle.py\u001b[0m in \u001b[0;36mScreen\u001b[0;34m()\u001b[0m\n\u001b[1;32m   3660\u001b[0m     else return the existing one.\"\"\"\n\u001b[1;32m   3661\u001b[0m     \u001b[0;32mif\u001b[0m \u001b[0mTurtle\u001b[0m\u001b[0;34m.\u001b[0m\u001b[0m_screen\u001b[0m \u001b[0;32mis\u001b[0m \u001b[0;32mNone\u001b[0m\u001b[0;34m:\u001b[0m\u001b[0;34m\u001b[0m\u001b[0;34m\u001b[0m\u001b[0m\n\u001b[0;32m-> 3662\u001b[0;31m         \u001b[0mTurtle\u001b[0m\u001b[0;34m.\u001b[0m\u001b[0m_screen\u001b[0m \u001b[0;34m=\u001b[0m \u001b[0m_Screen\u001b[0m\u001b[0;34m(\u001b[0m\u001b[0;34m)\u001b[0m\u001b[0;34m\u001b[0m\u001b[0;34m\u001b[0m\u001b[0m\n\u001b[0m\u001b[1;32m   3663\u001b[0m     \u001b[0;32mreturn\u001b[0m \u001b[0mTurtle\u001b[0m\u001b[0;34m.\u001b[0m\u001b[0m_screen\u001b[0m\u001b[0;34m\u001b[0m\u001b[0;34m\u001b[0m\u001b[0m\n\u001b[1;32m   3664\u001b[0m \u001b[0;34m\u001b[0m\u001b[0m\n",
            "\u001b[0;32m/usr/lib/python3.6/turtle.py\u001b[0m in \u001b[0;36m__init__\u001b[0;34m(self)\u001b[0m\n\u001b[1;32m   3676\u001b[0m         \u001b[0;31m# preserved (perhaps by passing it as an optional parameter)\u001b[0m\u001b[0;34m\u001b[0m\u001b[0;34m\u001b[0m\u001b[0;34m\u001b[0m\u001b[0m\n\u001b[1;32m   3677\u001b[0m         \u001b[0;32mif\u001b[0m \u001b[0m_Screen\u001b[0m\u001b[0;34m.\u001b[0m\u001b[0m_root\u001b[0m \u001b[0;32mis\u001b[0m \u001b[0;32mNone\u001b[0m\u001b[0;34m:\u001b[0m\u001b[0;34m\u001b[0m\u001b[0;34m\u001b[0m\u001b[0m\n\u001b[0;32m-> 3678\u001b[0;31m             \u001b[0m_Screen\u001b[0m\u001b[0;34m.\u001b[0m\u001b[0m_root\u001b[0m \u001b[0;34m=\u001b[0m \u001b[0mself\u001b[0m\u001b[0;34m.\u001b[0m\u001b[0m_root\u001b[0m \u001b[0;34m=\u001b[0m \u001b[0m_Root\u001b[0m\u001b[0;34m(\u001b[0m\u001b[0;34m)\u001b[0m\u001b[0;34m\u001b[0m\u001b[0;34m\u001b[0m\u001b[0m\n\u001b[0m\u001b[1;32m   3679\u001b[0m             \u001b[0mself\u001b[0m\u001b[0;34m.\u001b[0m\u001b[0m_root\u001b[0m\u001b[0;34m.\u001b[0m\u001b[0mtitle\u001b[0m\u001b[0;34m(\u001b[0m\u001b[0m_Screen\u001b[0m\u001b[0;34m.\u001b[0m\u001b[0m_title\u001b[0m\u001b[0;34m)\u001b[0m\u001b[0;34m\u001b[0m\u001b[0;34m\u001b[0m\u001b[0m\n\u001b[1;32m   3680\u001b[0m             \u001b[0mself\u001b[0m\u001b[0;34m.\u001b[0m\u001b[0m_root\u001b[0m\u001b[0;34m.\u001b[0m\u001b[0mondestroy\u001b[0m\u001b[0;34m(\u001b[0m\u001b[0mself\u001b[0m\u001b[0;34m.\u001b[0m\u001b[0m_destroy\u001b[0m\u001b[0;34m)\u001b[0m\u001b[0;34m\u001b[0m\u001b[0;34m\u001b[0m\u001b[0m\n",
            "\u001b[0;32m/usr/lib/python3.6/turtle.py\u001b[0m in \u001b[0;36m__init__\u001b[0;34m(self)\u001b[0m\n\u001b[1;32m    432\u001b[0m     \u001b[0;34m\"\"\"Root class for Screen based on Tkinter.\"\"\"\u001b[0m\u001b[0;34m\u001b[0m\u001b[0;34m\u001b[0m\u001b[0m\n\u001b[1;32m    433\u001b[0m     \u001b[0;32mdef\u001b[0m \u001b[0m__init__\u001b[0m\u001b[0;34m(\u001b[0m\u001b[0mself\u001b[0m\u001b[0;34m)\u001b[0m\u001b[0;34m:\u001b[0m\u001b[0;34m\u001b[0m\u001b[0;34m\u001b[0m\u001b[0m\n\u001b[0;32m--> 434\u001b[0;31m         \u001b[0mTK\u001b[0m\u001b[0;34m.\u001b[0m\u001b[0mTk\u001b[0m\u001b[0;34m.\u001b[0m\u001b[0m__init__\u001b[0m\u001b[0;34m(\u001b[0m\u001b[0mself\u001b[0m\u001b[0;34m)\u001b[0m\u001b[0;34m\u001b[0m\u001b[0;34m\u001b[0m\u001b[0m\n\u001b[0m\u001b[1;32m    435\u001b[0m \u001b[0;34m\u001b[0m\u001b[0m\n\u001b[1;32m    436\u001b[0m     \u001b[0;32mdef\u001b[0m \u001b[0msetupcanvas\u001b[0m\u001b[0;34m(\u001b[0m\u001b[0mself\u001b[0m\u001b[0;34m,\u001b[0m \u001b[0mwidth\u001b[0m\u001b[0;34m,\u001b[0m \u001b[0mheight\u001b[0m\u001b[0;34m,\u001b[0m \u001b[0mcwidth\u001b[0m\u001b[0;34m,\u001b[0m \u001b[0mcheight\u001b[0m\u001b[0;34m)\u001b[0m\u001b[0;34m:\u001b[0m\u001b[0;34m\u001b[0m\u001b[0;34m\u001b[0m\u001b[0m\n",
            "\u001b[0;32m/usr/lib/python3.6/tkinter/__init__.py\u001b[0m in \u001b[0;36m__init__\u001b[0;34m(self, screenName, baseName, className, useTk, sync, use)\u001b[0m\n\u001b[1;32m   2021\u001b[0m                 \u001b[0mbaseName\u001b[0m \u001b[0;34m=\u001b[0m \u001b[0mbaseName\u001b[0m \u001b[0;34m+\u001b[0m \u001b[0mext\u001b[0m\u001b[0;34m\u001b[0m\u001b[0;34m\u001b[0m\u001b[0m\n\u001b[1;32m   2022\u001b[0m         \u001b[0minteractive\u001b[0m \u001b[0;34m=\u001b[0m \u001b[0;36m0\u001b[0m\u001b[0;34m\u001b[0m\u001b[0;34m\u001b[0m\u001b[0m\n\u001b[0;32m-> 2023\u001b[0;31m         \u001b[0mself\u001b[0m\u001b[0;34m.\u001b[0m\u001b[0mtk\u001b[0m \u001b[0;34m=\u001b[0m \u001b[0m_tkinter\u001b[0m\u001b[0;34m.\u001b[0m\u001b[0mcreate\u001b[0m\u001b[0;34m(\u001b[0m\u001b[0mscreenName\u001b[0m\u001b[0;34m,\u001b[0m \u001b[0mbaseName\u001b[0m\u001b[0;34m,\u001b[0m \u001b[0mclassName\u001b[0m\u001b[0;34m,\u001b[0m \u001b[0minteractive\u001b[0m\u001b[0;34m,\u001b[0m \u001b[0mwantobjects\u001b[0m\u001b[0;34m,\u001b[0m \u001b[0museTk\u001b[0m\u001b[0;34m,\u001b[0m \u001b[0msync\u001b[0m\u001b[0;34m,\u001b[0m \u001b[0muse\u001b[0m\u001b[0;34m)\u001b[0m\u001b[0;34m\u001b[0m\u001b[0;34m\u001b[0m\u001b[0m\n\u001b[0m\u001b[1;32m   2024\u001b[0m         \u001b[0;32mif\u001b[0m \u001b[0museTk\u001b[0m\u001b[0;34m:\u001b[0m\u001b[0;34m\u001b[0m\u001b[0;34m\u001b[0m\u001b[0m\n\u001b[1;32m   2025\u001b[0m             \u001b[0mself\u001b[0m\u001b[0;34m.\u001b[0m\u001b[0m_loadtk\u001b[0m\u001b[0;34m(\u001b[0m\u001b[0;34m)\u001b[0m\u001b[0;34m\u001b[0m\u001b[0;34m\u001b[0m\u001b[0m\n",
            "\u001b[0;31mTclError\u001b[0m: no display name and no $DISPLAY environment variable"
          ]
        }
      ]
    },
    {
      "metadata": {
        "id": "pskE1kBbEguq",
        "colab_type": "code",
        "colab": {
          "base_uri": "https://localhost:8080/",
          "height": 170
        },
        "outputId": "345d079f-2ebf-4e01-dc30-ee746a7893af"
      },
      "cell_type": "code",
      "source": [
        "import math # import Math module to use the math functions\n",
        " \n",
        "# Test algebraic functions\n",
        "print(\"exp(1.0) =\", math.exp(1))\n",
        "print(\"log(3.78) =\", math.log(math.e))\n",
        "print(\"log10(10, 10) =\", math.log(10, 10))\n",
        "print(\"sqrt(4.0) =\", math.sqrt(4.0))\n",
        " \n",
        "# Test trigonometric functions\n",
        "print(\"sin(PI / 2) =\", math.sin(math.pi / 2))\n",
        "print(\"cos(PI / 2) =\", math.cos(math.pi / 2))\n",
        "print(\"tan(PI / 2) =\", math.tan(math.pi / 2))\n",
        "print(\"degrees(1.57) =\", math.degrees(1.57))\n",
        "print(\"radians(90) =\", math.radians(90))"
      ],
      "execution_count": 14,
      "outputs": [
        {
          "output_type": "stream",
          "text": [
            "exp(1.0) = 2.718281828459045\n",
            "log(3.78) = 1.0\n",
            "log10(10, 10) = 1.0\n",
            "sqrt(4.0) = 2.0\n",
            "sin(PI / 2) = 1.0\n",
            "cos(PI / 2) = 6.123233995736766e-17\n",
            "tan(PI / 2) = 1.633123935319537e+16\n",
            "degrees(1.57) = 89.95437383553924\n",
            "radians(90) = 1.5707963267948966\n"
          ],
          "name": "stdout"
        }
      ]
    },
    {
      "metadata": {
        "id": "tyaSrwoxE_Gr",
        "colab_type": "code",
        "colab": {
          "base_uri": "https://localhost:8080/",
          "height": 51
        },
        "outputId": "c112f866-e4a7-4cd3-9312-02de23e3dbe7"
      },
      "cell_type": "code",
      "source": [
        "import math\n",
        "\n",
        "x1, y1, x2, y2, x3, y3 = eval(input(\"Enter six coordinates of three points \\\n",
        "separated by commas like x1, y1, x2, y2, x3, y3: \"))\n",
        " \n",
        "a = math.sqrt((x2 - x3) * (x2 - x3) + (y2 - y3) * (y2 - y3))\n",
        "b = math.sqrt((x1 - x3) * (x1 - x3) + (y1 - y3) * (y1 - y3))\n",
        "c = math.sqrt((x1 - x2) * (x1 - x2) + (y1 - y2) * (y1 - y2))\n",
        "\n",
        "A = math.degrees(math.acos((a * a - b * b - c * c) / (-2 * b * c)))\n",
        "B = math.degrees(math.acos((b * b - a * a - c * c) / (-2 * a * c)))\n",
        "C = math.degrees(math.acos((c * c - b * b - a * a) / (-2 * a * b)))\n",
        "\n",
        "print(\"The three angles are \", round(A * 100) / 100.0,  \n",
        "    round(B * 100) / 100.0, round(C * 100) / 100.0)\n",
        "\n"
      ],
      "execution_count": 15,
      "outputs": [
        {
          "output_type": "stream",
          "text": [
            "Enter six coordinates of three points separated by commas like x1, y1, x2, y2, x3, y3: 1,1,6.5,1,6.5,2.5\n",
            "The three angles are  15.26 90.0 74.74\n"
          ],
          "name": "stdout"
        }
      ]
    },
    {
      "metadata": {
        "id": "tb1Hh1jfF_MT",
        "colab_type": "code",
        "colab": {
          "base_uri": "https://localhost:8080/",
          "height": 136
        },
        "outputId": "98d2b944-f0d7-4ebd-8e3c-3cf3aea3e1f1"
      },
      "cell_type": "code",
      "source": [
        "# Receive the amount \n",
        "amount = eval(input(\"Enter an amount in double, e.g., 11.56: \"))\n",
        "\n",
        "# Convert the amount to cents\n",
        "remainingAmount = int(amount * 100)\n",
        "\n",
        "# Find the number of one dollars\n",
        "numberOfOneDollars = int(remainingAmount / 100)\n",
        "remainingAmount = int(remainingAmount % 100)\n",
        "\n",
        "# Find the number of quarters in the remaining amount\n",
        "numberOfQuarters = int(remainingAmount / 25)\n",
        "remainingAmount = remainingAmount % 25\n",
        "\n",
        "# Find the number of dimes in the remaining amount\n",
        "numberOfDimes = int(remainingAmount / 10)\n",
        "remainingAmount = remainingAmount % 10\n",
        "\n",
        "# Find the number of nickels in the remaining amount\n",
        "numberOfNickels = int(remainingAmount / 5)\n",
        "remainingAmount = remainingAmount % 5\n",
        "\n",
        "# Find the number of pennies in the remaining amount\n",
        "numberOfPennies = remainingAmount\n",
        "\n",
        "# Display results\n",
        "print(\"Your amount\", amount, \"consists of\\n\", \n",
        "    \"\\t\", numberOfOneDollars, \"dollars\\n\", \n",
        "    \"\\t\", numberOfQuarters, \"quarters\\n\",\n",
        "    \"\\t\", numberOfDimes,  \"dimes\\n\",\n",
        "    \"\\t\", numberOfNickels, \"nickels\\n\",\n",
        "    \"\\t\", numberOfPennies, \"pennies\")\n"
      ],
      "execution_count": 17,
      "outputs": [
        {
          "output_type": "stream",
          "text": [
            "Enter an amount in double, e.g., 11.56: 11.56\n",
            "Your amount 11.56 consists of\n",
            " \t 11 dollars\n",
            " \t 2 quarters\n",
            " \t 0 dimes\n",
            " \t 1 nickels\n",
            " \t 1 pennies\n"
          ],
          "name": "stdout"
        }
      ]
    },
    {
      "metadata": {
        "id": "ivf-IcV1G2nK",
        "colab_type": "code",
        "colab": {
          "base_uri": "https://localhost:8080/",
          "height": 51
        },
        "outputId": "fb574890-2b2c-4dcf-d6fd-e68bc9b39eb9"
      },
      "cell_type": "code",
      "source": [
        "import random \n",
        "\n",
        "# Generate random numbers\n",
        "number1 = random.randint(0, 9)\n",
        "number2 = random.randint(0, 9)\n",
        "\n",
        "# Prompt the user to enter an answer\n",
        "answer = eval(input(\"What is \" + str(number1) + \" + \" \n",
        "    + str(number2) + \"? \"))\n",
        "    \n",
        "# Display result    \n",
        "print(number1, \"+\", number2, \"=\", answer, \n",
        "    \"is\", number1 + number2 == answer)"
      ],
      "execution_count": 18,
      "outputs": [
        {
          "output_type": "stream",
          "text": [
            "What is 5 + 1? 6\n",
            "5 + 1 = 6 is True\n"
          ],
          "name": "stdout"
        }
      ]
    },
    {
      "metadata": {
        "id": "YXKiLeYYG7ni",
        "colab_type": "code",
        "colab": {
          "base_uri": "https://localhost:8080/",
          "height": 51
        },
        "outputId": "6964fa95-f73e-47cc-9186-bc58e73b505c"
      },
      "cell_type": "code",
      "source": [
        "number = eval(input(\"Enter an integer: \"))\n",
        "\n",
        "if number % 5 == 0 :\n",
        "   print(\"HiFive\");\n",
        "\n",
        "if number % 2 == 0 :\n",
        "   print(\"HiEven\");"
      ],
      "execution_count": 19,
      "outputs": [
        {
          "output_type": "stream",
          "text": [
            "Enter an integer: 4\n",
            "HiEven\n"
          ],
          "name": "stdout"
        }
      ]
    },
    {
      "metadata": {
        "id": "AvPnZSqVHHw6",
        "colab_type": "code",
        "colab": {
          "base_uri": "https://localhost:8080/",
          "height": 561
        },
        "outputId": "c2fe19cc-a731-4b5e-84c5-05078dbc86c7"
      },
      "cell_type": "code",
      "source": [
        "day = 0 # birth day to be determined\n",
        "  \n",
        "# Prompt the user to answer the first question\n",
        "question1 = \"Is your birthday in Set1?\\n\" + \\\n",
        "    \" 1  3  5  7\\n\" + \\\n",
        "    \" 9 11 13 15\\n\" + \\\n",
        "    \"17 19 21 23\\n\" + \\\n",
        "    \"25 27 29 31\" + \\\n",
        "    \"\\nEnter 0 for No and 1 for Yes: \" \n",
        "answer = eval(input(question1))\n",
        "  \n",
        "if answer == 1:\n",
        "   day += 1\n",
        " \n",
        "# Prompt the user to answer the second question\n",
        "question2 = \"Is your birthday in Set2?\\n\" + \\\n",
        "    \" 2  3  6  7\\n\" + \\\n",
        "    \"10 11 14 15\\n\" + \\\n",
        "    \"18 19 22 23\\n\" + \\\n",
        "    \"26 27 30 31\" + \\\n",
        "    \"\\nEnter 0 for No and 1 for Yes: \" \n",
        "answer = eval(input(question2))\n",
        "  \n",
        "if answer == 1:\n",
        "   day += 2\n",
        " \n",
        "# Prompt the user to answer the third question\n",
        "question3 = \"Is your birthday in Set3?\\n\" + \\\n",
        "    \" 4  5  6  7\\n\" + \\\n",
        "    \"12 13 14 15\\n\" + \\\n",
        "    \"20 21 22 23\\n\" + \\\n",
        "    \"28 29 30 31\" + \\\n",
        "    \"\\nEnter 0 for No and 1 for Yes: \" \n",
        "answer = eval(input(question3))\n",
        "  \n",
        "if answer == 1:\n",
        "   day += 4\n",
        "  \n",
        "# Prompt the user to answer the fourth question\n",
        "question4 = \"Is your birthday in Set4?\\n\" + \\\n",
        "    \" 8  9 10 11\\n\" + \\\n",
        "    \"12 13 14 15\\n\" + \\\n",
        "    \"24 25 26 27\\n\" + \\\n",
        "    \"28 29 30 31\" + \\\n",
        "    \"\\nEnter 0 for No and 1 for Yes: \" \n",
        "answer = eval(input(question4))\n",
        "  \n",
        "if answer == 1:\n",
        "    day += 8\n",
        "  \n",
        "# Prompt the user to answer the fifth question\n",
        "question5 = \"Is your birthday in Set5?\\n\" + \\\n",
        "    \"16 17 18 19\\n\" + \\\n",
        "    \"20 21 22 23\\n\" + \\\n",
        "    \"24 25 26 27\\n\" + \\\n",
        "    \"28 29 30 31\" + \\\n",
        "    \"\\nEnter 0 for No and 1 for Yes: \" \n",
        "answer = eval(input(question5))\n",
        "  \n",
        "if answer == 1:\n",
        "    day += 16\n",
        "\n",
        "print(\"\\nYour birthday is\" + str(day) + \"!\")"
      ],
      "execution_count": 20,
      "outputs": [
        {
          "output_type": "stream",
          "text": [
            "Is your birthday in Set1?\n",
            " 1  3  5  7\n",
            " 9 11 13 15\n",
            "17 19 21 23\n",
            "25 27 29 31\n",
            "Enter 0 for No and 1 for Yes: 1\n",
            "Is your birthday in Set2?\n",
            " 2  3  6  7\n",
            "10 11 14 15\n",
            "18 19 22 23\n",
            "26 27 30 31\n",
            "Enter 0 for No and 1 for Yes: 1\n",
            "Is your birthday in Set3?\n",
            " 4  5  6  7\n",
            "12 13 14 15\n",
            "20 21 22 23\n",
            "28 29 30 31\n",
            "Enter 0 for No and 1 for Yes: 0\n",
            "Is your birthday in Set4?\n",
            " 8  9 10 11\n",
            "12 13 14 15\n",
            "24 25 26 27\n",
            "28 29 30 31\n",
            "Enter 0 for No and 1 for Yes: 0\n",
            "Is your birthday in Set5?\n",
            "16 17 18 19\n",
            "20 21 22 23\n",
            "24 25 26 27\n",
            "28 29 30 31\n",
            "Enter 0 for No and 1 for Yes: 1\n",
            "\n",
            "Your birthday is19!\n"
          ],
          "name": "stdout"
        }
      ]
    },
    {
      "metadata": {
        "id": "8Ha_8idpHdea",
        "colab_type": "code",
        "colab": {
          "base_uri": "https://localhost:8080/",
          "height": 51
        },
        "outputId": "2d5c6c1b-dac8-43fb-8616-a23369d2537f"
      },
      "cell_type": "code",
      "source": [
        "import random\n",
        "\n",
        "# 1. Generate two random single-digit integers\n",
        "number1 = random.randint(0, 9)\n",
        "number2 = random.randint(0, 9)\n",
        "\n",
        "# 2. If number1 < number2, swap number1 with number2\n",
        "if number1 < number2:\n",
        "    number1, number2 = number2, number1 # Simultaneous assignment\n",
        "\n",
        "# 4. Prompt the student to answer \"what is number1 - number2?\"\n",
        "answer = eval(input(\"What is \" + str(number1) + \" - \" + \n",
        "    str(number2) + \"? \"))\n",
        "\n",
        "# 4. Grade the answer and display the result\n",
        "if number1 - number2 == answer:\n",
        "    print(\"You are correct!\")\n",
        "else:\n",
        "    print(\"Your answer is wrong.\\n\", number1, \"-\",\n",
        "        number2, \"is\", number1 - number2)"
      ],
      "execution_count": 21,
      "outputs": [
        {
          "output_type": "stream",
          "text": [
            "What is 9 - 3? 6\n",
            "You are correct!\n"
          ],
          "name": "stdout"
        }
      ]
    },
    {
      "metadata": {
        "id": "DehEW_HaH9Wa",
        "colab_type": "code",
        "colab": {
          "base_uri": "https://localhost:8080/",
          "height": 51
        },
        "outputId": "dd5d0ab8-c021-4d7d-c5cc-8dddbb7d47a6"
      },
      "cell_type": "code",
      "source": [
        "year = eval(input(\"Enter a year: \"))\n",
        "zodiacYear = year % 12 \n",
        "if zodiacYear == 0:\n",
        "    print(\"monkey\")\n",
        "elif zodiacYear == 1:\n",
        "    print(\"rooster\")\n",
        "elif zodiacYear == 2:\n",
        "    print(\"dog\")\n",
        "elif zodiacYear == 3:\n",
        "    print(\"pig\")\n",
        "elif zodiacYear == 4: \n",
        "    print(\"rat\")\n",
        "elif zodiacYear == 5: \n",
        "    print(\"ox\")\n",
        "elif zodiacYear == 6:\n",
        "    print(\"tiger\")\n",
        "elif zodiacYear == 7:\n",
        "    print(\"rabbit\")\n",
        "elif zodiacYear == 8:\n",
        "    print(\"dragon\")\n",
        "elif zodiacYear == 9:\n",
        "    print(\"snake\")\n",
        "elif zodiacYear == 10:\n",
        "    print(\"horse\")\n",
        "else: \n",
        "    print(\"sheep\")"
      ],
      "execution_count": 22,
      "outputs": [
        {
          "output_type": "stream",
          "text": [
            "Enter a year: 1997\n",
            "ox\n"
          ],
          "name": "stdout"
        }
      ]
    },
    {
      "metadata": {
        "id": "l77tWaDBIORy",
        "colab_type": "code",
        "colab": {
          "base_uri": "https://localhost:8080/",
          "height": 85
        },
        "outputId": "8d96abdf-d7c8-4597-90e6-4ffd91f43e2c"
      },
      "cell_type": "code",
      "source": [
        "# Prompt the user to enter weight in pounds\n",
        "weight = eval(input(\"Enter weight in pounds: \"))\n",
        "    \n",
        "# Prompt the user to enter height in inches\n",
        "height = eval(input(\"Enter height in inches: \"))\n",
        "    \n",
        "KILOGRAMS_PER_POUND = 0.45359237 # Constant\n",
        "METERS_PER_INCH = 0.0254 # Constant \n",
        "    \n",
        "# Compute BMI\n",
        "weightInKilograms = weight * KILOGRAMS_PER_POUND \n",
        "heightInMeters = height * METERS_PER_INCH\n",
        "bmi = weightInKilograms / (heightInMeters * heightInMeters)\n",
        "\n",
        "# Display result\n",
        "print(\"BMI is\", format(bmi, \".2f\"))\n",
        "if bmi < 18.5:\n",
        "    print(\"Underweight\")\n",
        "elif bmi < 25:\n",
        "    print(\"Normal\")\n",
        "elif bmi < 30:\n",
        "    print(\"Overweight\")\n",
        "else:\n",
        "    print(\"Obese\")"
      ],
      "execution_count": 23,
      "outputs": [
        {
          "output_type": "stream",
          "text": [
            "Enter weight in pounds: 169\n",
            "Enter height in inches: 61\n",
            "BMI is 31.93\n",
            "Obese\n"
          ],
          "name": "stdout"
        }
      ]
    },
    {
      "metadata": {
        "id": "vujTs4RaLXXh",
        "colab_type": "code",
        "colab": {
          "base_uri": "https://localhost:8080/",
          "height": 102
        },
        "outputId": "9674c668-c9f6-43b5-acdc-0c09af23788d"
      },
      "cell_type": "code",
      "source": [
        "import sys\n",
        "\n",
        "# Prompt the user to enter filing status\n",
        "status = eval(input(\n",
        "    \"(0-single filer, 1-married jointly,\\n\" +\n",
        "    \"2-married separately, 3-head of household)\\n\" +\n",
        "    \"Enter the filing status: \"))\n",
        "\n",
        "# Prompt the user to enter taxable income\n",
        "income = eval(input(\"Enter the taxable income: \"))\n",
        "\n",
        "# Compute tax\n",
        "tax = 0\n",
        "\n",
        "if status == 0:  # Compute tax for single filers\n",
        "    if income <= 8350:\n",
        "        tax = income * 0.10\n",
        "    elif income <= 33950:\n",
        "        tax = 8350 * 0.10 + (income - 8350) * 0.15\n",
        "    elif income <= 82250:\n",
        "        tax = 8350 * 0.10 + (33950 - 8350) * 0.15 + \\\n",
        "            (income - 33950) * 0.25\n",
        "    elif income <= 171550:\n",
        "        tax = 8350 * 0.10 + (33950 - 8350) * 0.15 + \\\n",
        "            (82250 - 33950) * 0.25 + (income - 82250) * 0.28\n",
        "    elif income <= 372950:\n",
        "        tax = 8350 * 0.10 + (33950 - 8350) * 0.15 + \\\n",
        "            (82250 - 33950) * 0.25 + (171550 - 82250) * 0.28 + \\\n",
        "            (income - 171550) * 0.33\n",
        "    else:\n",
        "        tax = 8350 * 0.10 + (33950 - 8350) * 0.15 + \\\n",
        "              (82250 - 33950) * 0.25 + (171550 - 82250) * 0.28 + \\\n",
        "              (372950 - 171550) * 0.33 + (income - 372950) * 0.35;\n",
        "elif status == 1: # Compute tax for married file jointly\n",
        "    print(\"Left as exercise\")\n",
        "elif status == 2: # Compute tax for married separately\n",
        "    print(\"Left as exercise\")\n",
        "elif status == 3: # Compute tax for head of household\n",
        "    print(\"Left as exercise\")\n",
        "else:\n",
        "    print(\"Error: invalid status\")\n",
        "    sys.exit()\n",
        "\n",
        "# Display the result\n",
        "print(\"Tax is\", format(tax, \".2f\"))"
      ],
      "execution_count": 24,
      "outputs": [
        {
          "output_type": "stream",
          "text": [
            "(0-single filer, 1-married jointly,\n",
            "2-married separately, 3-head of household)\n",
            "Enter the filing status: 0\n",
            "Enter the taxable income: 400000\n",
            "Tax is 117683.50\n"
          ],
          "name": "stdout"
        }
      ]
    },
    {
      "metadata": {
        "id": "q5WYg1T3Ljjy",
        "colab_type": "code",
        "colab": {
          "base_uri": "https://localhost:8080/",
          "height": 68
        },
        "outputId": "7fb727c6-abfc-476d-f2c2-1e3b2718495f"
      },
      "cell_type": "code",
      "source": [
        "# Receive an input\n",
        "number = eval(input(\"Enter an integer: \"))\n",
        "\n",
        "if number % 2 == 0 and number % 3 == 0:\n",
        "    print(number, \"is divisible by 2 and 3\")\n",
        "\n",
        "if number % 2 == 0 or number % 3 == 0:\n",
        "    print(number, \"is divisible by 2 or 3\")\n",
        "\n",
        "if (number % 2 == 0 or number % 3 == 0) and \\\n",
        "       not (number % 2 == 0 and number % 3 == 0):\n",
        "    print(number, \"divisible by 2 or 3, but not both\")"
      ],
      "execution_count": 25,
      "outputs": [
        {
          "output_type": "stream",
          "text": [
            "Enter an integer: 18\n",
            "18 is divisible by 2 and 3\n",
            "18 is divisible by 2 or 3\n"
          ],
          "name": "stdout"
        }
      ]
    },
    {
      "metadata": {
        "id": "s2XY8GB6LyVq",
        "colab_type": "code",
        "colab": {
          "base_uri": "https://localhost:8080/",
          "height": 51
        },
        "outputId": "5702e55b-5bbf-4282-fb96-dddda94db725"
      },
      "cell_type": "code",
      "source": [
        "year = eval(input(\"Enter a year: \"))\n",
        "\n",
        "# Check if the year is a leap year \n",
        "isLeapYear = (year % 4 == 0 and year % 100 != 0) or \\\n",
        "   (year % 400 == 0)\n",
        "\n",
        "# Display the result \n",
        "print(year, \"is a leap year?\", isLeapYear)"
      ],
      "execution_count": 26,
      "outputs": [
        {
          "output_type": "stream",
          "text": [
            "Enter a year: 2000\n",
            "2000 is a leap year? True\n"
          ],
          "name": "stdout"
        }
      ]
    },
    {
      "metadata": {
        "id": "zu_xP9zeMA2p",
        "colab_type": "code",
        "colab": {
          "base_uri": "https://localhost:8080/",
          "height": 68
        },
        "outputId": "30646d30-f25f-407c-ddc7-0c8884cdea25"
      },
      "cell_type": "code",
      "source": [
        "import random\n",
        "\n",
        "# Generate a lottery\n",
        "lottery = random.randint(0, 99)\n",
        "\n",
        "# Prompt the user to enter a guess\n",
        "guess = eval(input(\"Enter your lottery pick (two digits): \"))\n",
        "\n",
        "# Get digits from lottery\n",
        "lotteryDigit1 = lottery // 10\n",
        "lotteryDigit2 = lottery % 10\n",
        "\n",
        "# Get digits from guess\n",
        "guessDigit1 = guess // 10\n",
        "guessDigit2 = guess % 10\n",
        "\n",
        "print(\"The lottery number is\", lottery)\n",
        "\n",
        "# Check the guess\n",
        "if guess == lottery:\n",
        "    print(\"Exact match: you win $10,000\")\n",
        "elif (guessDigit2 == lotteryDigit1 and \\\n",
        "  guessDigit1 == lotteryDigit2):\n",
        "    print(\"Match all digits: you win $3,000\")\n",
        "elif (guessDigit1 == lotteryDigit1 \n",
        "        or guessDigit1 == lotteryDigit2 \n",
        "        or guessDigit2 == lotteryDigit1 \n",
        "        or guessDigit2 == lotteryDigit2):\n",
        "    print(\"Match one digit: you win $1,000\")\n",
        "else:\n",
        "    print(\"Sorry, no match\")"
      ],
      "execution_count": 27,
      "outputs": [
        {
          "output_type": "stream",
          "text": [
            "Enter your lottery pick (two digits): 48\n",
            "The lottery number is 14\n",
            "Match one digit: you win $1,000\n"
          ],
          "name": "stdout"
        }
      ]
    },
    {
      "metadata": {
        "id": "boEwFWftMJVi",
        "colab_type": "code",
        "colab": {
          "base_uri": "https://localhost:8080/",
          "height": 51
        },
        "outputId": "d5866b4c-4cb8-4cf6-9793-c82f6a3964a6"
      },
      "cell_type": "code",
      "source": [
        "import random\n",
        "\n",
        "# 1. Generate two random single-digit integers\n",
        "number1 = random.randint(0, 9)\n",
        "number2 = random.randint(0, 9)\n",
        "\n",
        "# 2. If number1 < number2, swap number1 with number2\n",
        "if number1 < number2:\n",
        "    number1, number2 = number2, number1\n",
        "\n",
        "# 3. Prompt the student to answer What is number1 - number2?\n",
        "answer = eval(input(\"What is \" + str(number1) + \" - \" \n",
        "    + str(number2) + \"? \"))\n",
        "\n",
        "# 5. Repeatedly ask the user the question until it is correct\n",
        "while number1 - number2 != answer:\n",
        "    answer = eval(input(\"Wrong answer. Try again. What is \" \n",
        "        + str(number1) + \" - \" + str(number2) + \"? \"))\n",
        "  \n",
        "print(\"You got it!\")"
      ],
      "execution_count": 28,
      "outputs": [
        {
          "output_type": "stream",
          "text": [
            "What is 4 - 3? 1\n",
            "You got it!\n"
          ],
          "name": "stdout"
        }
      ]
    },
    {
      "metadata": {
        "id": "n5WM3NweMghh",
        "colab_type": "code",
        "colab": {
          "base_uri": "https://localhost:8080/",
          "height": 68
        },
        "outputId": "bad92528-2e59-4ede-97e3-03f5e8f24f3d"
      },
      "cell_type": "code",
      "source": [
        "import random\n",
        "\n",
        "# Generate a random number to be guessed\n",
        "number = random.randint(1, 100)\n",
        "\n",
        "print(\"Guess a magic number between 0 and 100\")\n",
        "\n",
        "# Prompt the user to guess the number\n",
        "guess = eval(input(\"Enter your guess: \"))\n",
        "\n",
        "if guess == number:\n",
        "    print(\"Yes, the number is \" + str(number))\n",
        "elif guess > number:\n",
        "    print(\"Your guess is too high\")\n",
        "else:\n",
        "    print(\"Your guess is too low\")"
      ],
      "execution_count": 29,
      "outputs": [
        {
          "output_type": "stream",
          "text": [
            "Guess a magic number between 0 and 100\n",
            "Enter your guess: 50\n",
            "Your guess is too high\n"
          ],
          "name": "stdout"
        }
      ]
    },
    {
      "metadata": {
        "id": "JQWJELARMubJ",
        "colab_type": "code",
        "colab": {
          "base_uri": "https://localhost:8080/",
          "height": 374
        },
        "outputId": "c05934a0-6f8e-49c9-89bd-4dc787b6332b"
      },
      "cell_type": "code",
      "source": [
        "import random\n",
        "\n",
        "# Generate a random number to be guessed\n",
        "number = random.randint(1, 100)\n",
        "\n",
        "print(\"Guess a magic number between 0 and 100\")\n",
        "\n",
        "guess = -1\n",
        "while guess != number:\n",
        "    # Prompt the user to guess the number\n",
        "    guess = eval(input(\"Enter your guess: \"))\n",
        "\n",
        "    if guess == number:\n",
        "        print(\"Yes, the number is\", number)\n",
        "    elif guess > number:\n",
        "        print(\"Your guess is too high\")\n",
        "    else:\n",
        "        print(\"Your guess is too low\")"
      ],
      "execution_count": 30,
      "outputs": [
        {
          "output_type": "stream",
          "text": [
            "Guess a magic number between 0 and 100\n",
            "Enter your guess: 15\n",
            "Your guess is too low\n",
            "Enter your guess: 50\n",
            "Your guess is too low\n",
            "Enter your guess: 88\n",
            "Your guess is too high\n",
            "Enter your guess: 90\n",
            "Your guess is too high\n",
            "Enter your guess: 65\n",
            "Your guess is too low\n",
            "Enter your guess: 79\n",
            "Your guess is too high\n",
            "Enter your guess: 70\n",
            "Your guess is too high\n",
            "Enter your guess: 668\n",
            "Your guess is too high\n",
            "Enter your guess: 68\n",
            "Your guess is too high\n",
            "Enter your guess: 66\n",
            "Yes, the number is 66\n"
          ],
          "name": "stdout"
        }
      ]
    },
    {
      "metadata": {
        "id": "e0m0E8mJNRci",
        "colab_type": "code",
        "colab": {
          "base_uri": "https://localhost:8080/",
          "height": 221
        },
        "outputId": "7f023ae3-6a2b-4f3c-a3bf-f8d3c49b24de"
      },
      "cell_type": "code",
      "source": [
        "import random\n",
        "import time\n",
        "\n",
        "correctCount = 0 # Count the number of correct answers\n",
        "count = 0 # Count the number of questions\n",
        "NUMBER_OF_QUESTIONS = 5 # Constant\n",
        "\n",
        "startTime = time.time() # Get start time\n",
        "\n",
        "while count < NUMBER_OF_QUESTIONS:\n",
        "    # 1. Generate two random single-digit integers\n",
        "    number1 = random.randint(0, 9)\n",
        "    number2 = random.randint(0, 9)\n",
        "\n",
        "    # 2. If number1 < number2, swap number1 with number2\n",
        "    if number1 < number2:\n",
        "        number1, number2 = number2, number1\n",
        "\n",
        "    # 3. Prompt the student to answer \"what is number1 - number2?\" \n",
        "    answer = eval(input(\"What is \" + str(number1) + \" - \" + \n",
        "        str(number2) + \"? \"))\n",
        "\n",
        "    # 5. Grade the answer and display the result\n",
        "    if number1 - number2 == answer:\n",
        "        print(\"You are correct!\")\n",
        "        correctCount += 1\n",
        "    else:\n",
        "        print(\"Your answer is wrong.\\n\", number1, \"-\",\n",
        "            number2, \"should be\", (number1 - number2))\n",
        "\n",
        "    # Increase the count\n",
        "    count += 1\n",
        "\n",
        "endTime = time.time() # Get end time\n",
        "testTime = int(endTime - startTime) # Get test time\n",
        "print(\"Correct count is\", correctCount, \"out of\", \n",
        "    NUMBER_OF_QUESTIONS, \"\\nTest time is\", testTime, \"seconds\")"
      ],
      "execution_count": 31,
      "outputs": [
        {
          "output_type": "stream",
          "text": [
            "What is 5 - 2? 3\n",
            "You are correct!\n",
            "What is 8 - 5? 3\n",
            "You are correct!\n",
            "What is 9 - 1? 8\n",
            "You are correct!\n",
            "What is 9 - 1? 8\n",
            "You are correct!\n",
            "What is 9 - 5? 4\n",
            "You are correct!\n",
            "Correct count is 5 out of 5 \n",
            "Test time is 16 seconds\n"
          ],
          "name": "stdout"
        }
      ]
    },
    {
      "metadata": {
        "id": "tuCn4_wLNwio",
        "colab_type": "code",
        "colab": {
          "base_uri": "https://localhost:8080/",
          "height": 119
        },
        "outputId": "86ff4aa7-962c-48ea-be6a-5aeea70f06b5"
      },
      "cell_type": "code",
      "source": [
        "data = eval(input(\"Enter an integer (the input exits \" + \n",
        "    \"if the input is 0): \"))\n",
        "\n",
        "# Keep reading data until the input is 0\n",
        "sum = 0\n",
        "while data != 0:\n",
        "    sum += data\n",
        "\n",
        "    data = eval(input(\"Enter an integer (the input exits \" +\n",
        "        \"if the input is 0): \"))\n",
        "\n",
        "print(\"The sum is\", sum)"
      ],
      "execution_count": 32,
      "outputs": [
        {
          "output_type": "stream",
          "text": [
            "Enter an integer (the input exits if the input is 0): 2\n",
            "Enter an integer (the input exits if the input is 0): 5\n",
            "Enter an integer (the input exits if the input is 0): 6\n",
            "Enter an integer (the input exits if the input is 0): 2\n",
            "Enter an integer (the input exits if the input is 0): 0\n",
            "The sum is 15\n"
          ],
          "name": "stdout"
        }
      ]
    },
    {
      "metadata": {
        "id": "iU0ksQv7OA14",
        "colab_type": "code",
        "colab": {
          "base_uri": "https://localhost:8080/",
          "height": 221
        },
        "outputId": "01c9c4d1-3c69-4b70-9164-29986f51063d"
      },
      "cell_type": "code",
      "source": [
        "print(\"          Multiplication Table\")\n",
        "# Display the number title\n",
        "print(\"  |\", end = '')\n",
        "for j in range(1, 10):\n",
        "    print(\"  \", j, end = '')\n",
        "print() # Jump to the new line\n",
        "print(\"-----------------------------------------\")\n",
        "\n",
        "# Display table body\n",
        "for i in range(1, 10):\n",
        "    print(i, \"|\", end = '')\n",
        "    for j in range(1, 10): \n",
        "        # Display the product and align properly\n",
        "        print(format(i * j, '4d'), end = '')\n",
        "    print()# Jump to the new line"
      ],
      "execution_count": 33,
      "outputs": [
        {
          "output_type": "stream",
          "text": [
            "          Multiplication Table\n",
            "  |   1   2   3   4   5   6   7   8   9\n",
            "-----------------------------------------\n",
            "1 |   1   2   3   4   5   6   7   8   9\n",
            "2 |   2   4   6   8  10  12  14  16  18\n",
            "3 |   3   6   9  12  15  18  21  24  27\n",
            "4 |   4   8  12  16  20  24  28  32  36\n",
            "5 |   5  10  15  20  25  30  35  40  45\n",
            "6 |   6  12  18  24  30  36  42  48  54\n",
            "7 |   7  14  21  28  35  42  49  56  63\n",
            "8 |   8  16  24  32  40  48  56  64  72\n",
            "9 |   9  18  27  36  45  54  63  72  81\n"
          ],
          "name": "stdout"
        }
      ]
    },
    {
      "metadata": {
        "id": "q67avbpHOKEh",
        "colab_type": "code",
        "colab": {
          "base_uri": "https://localhost:8080/",
          "height": 34
        },
        "outputId": "1f26abad-8a07-4130-dbba-37b4762937f0"
      },
      "cell_type": "code",
      "source": [
        "# Initialize sum\n",
        "sum = 0\n",
        "\n",
        "# Add 0.01, 0.02, ..., 0.99, 1 to sum\n",
        "i = 0.01\n",
        "while i <= 1.0:\n",
        "    sum += i\n",
        "    i = i + 0.01\n",
        "\n",
        "# Display result\n",
        "print(\"The sum is\", sum)"
      ],
      "execution_count": 34,
      "outputs": [
        {
          "output_type": "stream",
          "text": [
            "The sum is 49.50000000000003\n"
          ],
          "name": "stdout"
        }
      ]
    },
    {
      "metadata": {
        "id": "u7KN9GsJOT0J",
        "colab_type": "code",
        "colab": {
          "base_uri": "https://localhost:8080/",
          "height": 68
        },
        "outputId": "664093fd-cbb9-492a-e0d0-4a42c1b7fe77"
      },
      "cell_type": "code",
      "source": [
        "#Prompt the user to enter two integers\n",
        "n1 = eval(input(\"Enter first integer: \"))\n",
        "n2 = eval(input(\"Enter second integer: \"))\n",
        "\n",
        "gcd = 1\n",
        "k = 2\n",
        "while k <= n1 and k <= n2:\n",
        "    if n1 % k == 0 and n2 % k == 0:\n",
        "        gcd = k\n",
        "    k += 1\n",
        "\n",
        "print(\"The greatest common divisor for\", \n",
        "    n1, \"and\", n2, \"is\", gcd)"
      ],
      "execution_count": 35,
      "outputs": [
        {
          "output_type": "stream",
          "text": [
            "Enter first integer: 125\n",
            "Enter second integer: 2525\n",
            "The greatest common divisor for 125 and 2525 is 25\n"
          ],
          "name": "stdout"
        }
      ]
    },
    {
      "metadata": {
        "id": "byOcE9peOfd5",
        "colab_type": "code",
        "colab": {
          "base_uri": "https://localhost:8080/",
          "height": 51
        },
        "outputId": "7e97d99d-d529-493f-f65a-a05cf9a9b041"
      },
      "cell_type": "code",
      "source": [
        "year = 0 # Year 0\n",
        "tuition = 10000   # Year 1\n",
        "\n",
        "while tuition < 20000:\n",
        "    year += 1\n",
        "    tuition = tuition * 1.07\n",
        "\n",
        "print(\"Tuition will be doubled in\", year, \"years\")\n",
        "print(\"Tuition will be $\" + format(tuition, \".2f\"), \n",
        "      \"in\", year, \"years\")\n"
      ],
      "execution_count": 36,
      "outputs": [
        {
          "output_type": "stream",
          "text": [
            "Tuition will be doubled in 11 years\n",
            "Tuition will be $21048.52 in 11 years\n"
          ],
          "name": "stdout"
        }
      ]
    },
    {
      "metadata": {
        "id": "97OxVwFkTrBo",
        "colab_type": "code",
        "colab": {
          "base_uri": "https://localhost:8080/",
          "height": 34
        },
        "outputId": "fdeda2ab-32fc-41f2-91a7-509618516466"
      },
      "cell_type": "code",
      "source": [
        "import random\n",
        "\n",
        "NUMBER_OF_TRIALS = 100000 # Constant\n",
        "numberOfHits = 0\n",
        "\n",
        "for i in range(NUMBER_OF_TRIALS):\n",
        "    x = random.random() * 2 - 1\n",
        "    y = random.random() * 2 - 1\n",
        "\n",
        "    if x * x + y * y <= 1:\n",
        "        numberOfHits += 1\n",
        "\n",
        "pi = 4 * numberOfHits / NUMBER_OF_TRIALS\n",
        "\n",
        "print(\"PI is\", pi)"
      ],
      "execution_count": 37,
      "outputs": [
        {
          "output_type": "stream",
          "text": [
            "PI is 3.1488\n"
          ],
          "name": "stdout"
        }
      ]
    },
    {
      "metadata": {
        "id": "AZ9Ji0oYT3qe",
        "colab_type": "code",
        "colab": {
          "base_uri": "https://localhost:8080/",
          "height": 51
        },
        "outputId": "c468dc87-5134-4ed2-c97c-daaacf0739ac"
      },
      "cell_type": "code",
      "source": [
        "sum = 0\n",
        "number = 0\n",
        "\n",
        "while number < 20:\n",
        "    number += 1\n",
        "    sum += number\n",
        "    if sum >= 100: \n",
        "        break\n",
        "\n",
        "print(\"The number is\", number)\n",
        "print(\"The sum is\", sum)"
      ],
      "execution_count": 38,
      "outputs": [
        {
          "output_type": "stream",
          "text": [
            "The number is 14\n",
            "The sum is 105\n"
          ],
          "name": "stdout"
        }
      ]
    },
    {
      "metadata": {
        "id": "XXL3Z_NHUNp3",
        "colab_type": "code",
        "colab": {
          "base_uri": "https://localhost:8080/",
          "height": 34
        },
        "outputId": "d81fa5af-63c2-43fe-d419-14181f2a0280"
      },
      "cell_type": "code",
      "source": [
        "sum = 0\n",
        "number = 0\n",
        "\n",
        "while number < 20: \n",
        "    number += 1\n",
        "    if number == 10 or number == 11: \n",
        "        continue\n",
        "    sum += number\n",
        "\n",
        "print(\"The sum is\", sum)"
      ],
      "execution_count": 39,
      "outputs": [
        {
          "output_type": "stream",
          "text": [
            "The sum is 189\n"
          ],
          "name": "stdout"
        }
      ]
    }
  ]
}