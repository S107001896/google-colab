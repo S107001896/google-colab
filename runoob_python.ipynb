{
  "nbformat": 4,
  "nbformat_minor": 0,
  "metadata": {
    "colab": {
      "name": "runoob-python.ipynb",
      "version": "0.3.2",
      "provenance": [],
      "include_colab_link": true
    },
    "kernelspec": {
      "name": "python2",
      "display_name": "Python 2"
    }
  },
  "cells": [
    {
      "cell_type": "markdown",
      "metadata": {
        "id": "view-in-github",
        "colab_type": "text"
      },
      "source": [
        "<a href=\"https://colab.research.google.com/github/S107001896/google-colab/blob/master/runoob_python.ipynb\" target=\"_parent\"><img src=\"https://colab.research.google.com/assets/colab-badge.svg\" alt=\"Open In Colab\"/></a>"
      ]
    },
    {
      "metadata": {
        "id": "sH48sJ3SaQ_a",
        "colab_type": "code",
        "colab": {
          "base_uri": "https://localhost:8080/",
          "height": 68
        },
        "outputId": "e998760a-6d11-418b-a83e-d4bae5dec49f"
      },
      "cell_type": "code",
      "source": [
        "#!/usr/bin/python\n",
        "# -*- coding: UTF-8 -*-\n",
        " \n",
        "counter = 100 # 赋值整型变量\n",
        "miles = 1000.0 # 浮点型\n",
        "name = \"John\" # 字符串\n",
        " \n",
        "print counter\n",
        "print miles\n",
        "print name"
      ],
      "execution_count": 1,
      "outputs": [
        {
          "output_type": "stream",
          "text": [
            "100\n",
            "1000.0\n",
            "John\n"
          ],
          "name": "stdout"
        }
      ]
    },
    {
      "metadata": {
        "id": "UPYVshlyaiZE",
        "colab_type": "code",
        "colab": {
          "base_uri": "https://localhost:8080/",
          "height": 187
        },
        "outputId": "b9355f58-8edd-4a7a-8687-ddd251c9c138"
      },
      "cell_type": "code",
      "source": [
        "#!/usr/bin/python\n",
        "# -*- coding: UTF-8 -*-\n",
        " \n",
        "for letter in 'Python':     # 第一个实例\n",
        "   print '当前字母 :', letter\n",
        " \n",
        "fruits = ['banana', 'apple',  'mango']\n",
        "for fruit in fruits:        # 第二个实例\n",
        "   print '当前水果 :', fruit\n",
        " \n",
        "print \"Good bye!\""
      ],
      "execution_count": 2,
      "outputs": [
        {
          "output_type": "stream",
          "text": [
            "当前字母 : P\n",
            "当前字母 : y\n",
            "当前字母 : t\n",
            "当前字母 : h\n",
            "当前字母 : o\n",
            "当前字母 : n\n",
            "当前水果 : banana\n",
            "当前水果 : apple\n",
            "当前水果 : mango\n",
            "Good bye!\n"
          ],
          "name": "stdout"
        }
      ]
    },
    {
      "metadata": {
        "id": "G95TU75FbMz0",
        "colab_type": "code",
        "colab": {
          "base_uri": "https://localhost:8080/",
          "height": 272
        },
        "outputId": "1d72165a-873f-4740-ac9f-1a1cb6922443"
      },
      "cell_type": "code",
      "source": [
        "i = 1\n",
        "while i < 10:   \n",
        "    i += 1\n",
        "    if i%2 > 0:     # 非双数时跳过输出\n",
        "        continue\n",
        "    print i         # 输出双数2、4、6、8、10\n",
        " \n",
        "i = 1\n",
        "while 1:            # 循环条件为1必定成立\n",
        "    print i         # 输出1~10\n",
        "    i += 1\n",
        "    if i > 10:     # 当i大于10时跳出循环\n",
        "        break"
      ],
      "execution_count": 3,
      "outputs": [
        {
          "output_type": "stream",
          "text": [
            "2\n",
            "4\n",
            "6\n",
            "8\n",
            "10\n",
            "1\n",
            "2\n",
            "3\n",
            "4\n",
            "5\n",
            "6\n",
            "7\n",
            "8\n",
            "9\n",
            "10\n"
          ],
          "name": "stdout"
        }
      ]
    }
  ]
}