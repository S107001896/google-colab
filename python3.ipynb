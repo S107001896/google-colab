{
  "nbformat": 4,
  "nbformat_minor": 0,
  "metadata": {
    "colab": {
      "name": "python3.ipynb",
      "version": "0.3.2",
      "provenance": [],
      "include_colab_link": true
    },
    "kernelspec": {
      "name": "python3",
      "display_name": "Python 3"
    }
  },
  "cells": [
    {
      "cell_type": "markdown",
      "metadata": {
        "id": "view-in-github",
        "colab_type": "text"
      },
      "source": [
        "<a href=\"https://colab.research.google.com/github/S107001896/google-colab/blob/master/python3.ipynb\" target=\"_parent\"><img src=\"https://colab.research.google.com/assets/colab-badge.svg\" alt=\"Open In Colab\"/></a>"
      ]
    },
    {
      "metadata": {
        "id": "Y2-5ULAp4AHy",
        "colab_type": "code",
        "colab": {
          "base_uri": "https://localhost:8080/",
          "height": 51
        },
        "outputId": "26cdcfdd-9d18-42da-9f04-88f0a305a629"
      },
      "cell_type": "code",
      "source": [
        "import random \n",
        "\n",
        "# Generate random numbers\n",
        "number1 = random.randint(0, 9)\n",
        "number2 = random.randint(0, 9)\n",
        "\n",
        "# Prompt the user to enter an answer\n",
        "answer = eval(input(\"What is \" + str(number1) + \" + \" \n",
        "    + str(number2) + \"? \"))\n",
        "    \n",
        "# Display result    \n",
        "print(number1, \"+\", number2, \"=\", answer, \n",
        "    \"is\", number1 + number2 == answer)"
      ],
      "execution_count": 1,
      "outputs": [
        {
          "output_type": "stream",
          "text": [
            "What is 0 + 8? 8\n",
            "0 + 8 = 8 is True\n"
          ],
          "name": "stdout"
        }
      ]
    },
    {
      "metadata": {
        "id": "P3A0g73q5Myc",
        "colab_type": "code",
        "colab": {
          "base_uri": "https://localhost:8080/",
          "height": 85
        },
        "outputId": "93f8474d-d3c3-433d-af90-3eac08f14996"
      },
      "cell_type": "code",
      "source": [
        "import pickle\n",
        "\n",
        "def main():\n",
        "    # Open file for writing binary\n",
        "    outfile = open(\"pickle.dat\", \"wb\")\n",
        "    pickle.dump(45, outfile)\n",
        "    pickle.dump(56.6, outfile)\n",
        "    pickle.dump(\"Programming is fun\", outfile)\n",
        "    pickle.dump([1, 2, 3, 4], outfile)\n",
        "    outfile.close() # Close the output file\n",
        "\n",
        "    # Open file for reading binary\n",
        "    infile = open(\"pickle.dat\", \"rb\")\n",
        "    print(pickle.load(infile))\n",
        "    print(pickle.load(infile))\n",
        "    print(pickle.load(infile))\n",
        "    print(pickle.load(infile))\n",
        "    infile.close() # Close the input file\n",
        "\n",
        "main() # Call the main function"
      ],
      "execution_count": 17,
      "outputs": [
        {
          "output_type": "stream",
          "text": [
            "45\n",
            "56.6\n",
            "Programming is fun\n",
            "[1, 2, 3, 4]\n"
          ],
          "name": "stdout"
        }
      ]
    },
    {
      "metadata": {
        "id": "_cQe221V7cWd",
        "colab_type": "code",
        "colab": {
          "base_uri": "https://localhost:8080/",
          "height": 51
        },
        "outputId": "65b5a124-1510-46aa-d1a1-a0c8b908f8d0"
      },
      "cell_type": "code",
      "source": [
        "import math\n",
        "\n",
        "x1, y1, x2, y2, x3, y3 = eval(input(\"Enter six coordinates of three points \\\n",
        "separated by commas like x1, y1, x2, y2, x3, y3: \"))\n",
        " \n",
        "a = math.sqrt((x2 - x3) * (x2 - x3) + (y2 - y3) * (y2 - y3))\n",
        "b = math.sqrt((x1 - x3) * (x1 - x3) + (y1 - y3) * (y1 - y3))\n",
        "c = math.sqrt((x1 - x2) * (x1 - x2) + (y1 - y2) * (y1 - y2))\n",
        "\n",
        "A = math.degrees(math.acos((a * a - b * b - c * c) / (-2 * b * c)))\n",
        "B = math.degrees(math.acos((b * b - a * a - c * c) / (-2 * a * c)))\n",
        "C = math.degrees(math.acos((c * c - b * b - a * a) / (-2 * a * b)))\n",
        "\n",
        "print(\"The three angles are \", round(A * 100) / 100.0,  \n",
        "    round(B * 100) / 100.0, round(C * 100) / 100.0)\n"
      ],
      "execution_count": 27,
      "outputs": [
        {
          "output_type": "stream",
          "text": [
            "Enter six coordinates of three points separated by commas like x1, y1, x2, y2, x3, y3: 4,8,8,5,11,2\n",
            "The three angles are  3.73 171.87 4.4\n"
          ],
          "name": "stdout"
        }
      ]
    }
  ]
}