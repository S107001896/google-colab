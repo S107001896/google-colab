{
  "nbformat": 4,
  "nbformat_minor": 0,
  "metadata": {
    "colab": {
      "name": "python3.ipynb",
      "version": "0.3.2",
      "provenance": [],
      "include_colab_link": true
    },
    "kernelspec": {
      "name": "python3",
      "display_name": "Python 3"
    }
  },
  "cells": [
    {
      "cell_type": "markdown",
      "metadata": {
        "id": "view-in-github",
        "colab_type": "text"
      },
      "source": [
        "<a href=\"https://colab.research.google.com/github/S107001896/google-colab/blob/master/python3.ipynb\" target=\"_parent\"><img src=\"https://colab.research.google.com/assets/colab-badge.svg\" alt=\"Open In Colab\"/></a>"
      ]
    },
    {
      "metadata": {
        "id": "Y2-5ULAp4AHy",
        "colab_type": "code",
        "colab": {
          "base_uri": "https://localhost:8080/",
          "height": 51
        },
        "outputId": "a5ee1953-b94b-4226-8428-3924dfc84dab"
      },
      "cell_type": "code",
      "source": [
        "import random \n",
        "\n",
        "# Generate random numbers\n",
        "number1 = random.randint(0, 9)\n",
        "number2 = random.randint(0, 9)\n",
        "\n",
        "# Prompt the user to enter an answer\n",
        "answer = eval(input(\"What is \" + str(number1) + \" + \" \n",
        "    + str(number2) + \"? \"))\n",
        "    \n",
        "# Display result    \n",
        "print(number1, \"+\", number2, \"=\", answer, \n",
        "    \"is\", number1 + number2 == answer)"
      ],
      "execution_count": 28,
      "outputs": [
        {
          "output_type": "stream",
          "text": [
            "What is 7 + 2? 10\n",
            "7 + 2 = 10 is False\n"
          ],
          "name": "stdout"
        }
      ]
    },
    {
      "metadata": {
        "id": "P3A0g73q5Myc",
        "colab_type": "code",
        "colab": {
          "base_uri": "https://localhost:8080/",
          "height": 85
        },
        "outputId": "93f8474d-d3c3-433d-af90-3eac08f14996"
      },
      "cell_type": "code",
      "source": [
        "import pickle\n",
        "\n",
        "def main():\n",
        "    # Open file for writing binary\n",
        "    outfile = open(\"pickle.dat\", \"wb\")\n",
        "    pickle.dump(45, outfile)\n",
        "    pickle.dump(56.6, outfile)\n",
        "    pickle.dump(\"Programming is fun\", outfile)\n",
        "    pickle.dump([1, 2, 3, 4], outfile)\n",
        "    outfile.close() # Close the output file\n",
        "\n",
        "    # Open file for reading binary\n",
        "    infile = open(\"pickle.dat\", \"rb\")\n",
        "    print(pickle.load(infile))\n",
        "    print(pickle.load(infile))\n",
        "    print(pickle.load(infile))\n",
        "    print(pickle.load(infile))\n",
        "    infile.close() # Close the input file\n",
        "\n",
        "main() # Call the main function"
      ],
      "execution_count": 17,
      "outputs": [
        {
          "output_type": "stream",
          "text": [
            "45\n",
            "56.6\n",
            "Programming is fun\n",
            "[1, 2, 3, 4]\n"
          ],
          "name": "stdout"
        }
      ]
    },
    {
      "metadata": {
        "id": "_cQe221V7cWd",
        "colab_type": "code",
        "colab": {
          "base_uri": "https://localhost:8080/",
          "height": 51
        },
        "outputId": "65b5a124-1510-46aa-d1a1-a0c8b908f8d0"
      },
      "cell_type": "code",
      "source": [
        "import math\n",
        "\n",
        "x1, y1, x2, y2, x3, y3 = eval(input(\"Enter six coordinates of three points \\\n",
        "separated by commas like x1, y1, x2, y2, x3, y3: \"))\n",
        " \n",
        "a = math.sqrt((x2 - x3) * (x2 - x3) + (y2 - y3) * (y2 - y3))\n",
        "b = math.sqrt((x1 - x3) * (x1 - x3) + (y1 - y3) * (y1 - y3))\n",
        "c = math.sqrt((x1 - x2) * (x1 - x2) + (y1 - y2) * (y1 - y2))\n",
        "\n",
        "A = math.degrees(math.acos((a * a - b * b - c * c) / (-2 * b * c)))\n",
        "B = math.degrees(math.acos((b * b - a * a - c * c) / (-2 * a * c)))\n",
        "C = math.degrees(math.acos((c * c - b * b - a * a) / (-2 * a * b)))\n",
        "\n",
        "print(\"The three angles are \", round(A * 100) / 100.0,  \n",
        "    round(B * 100) / 100.0, round(C * 100) / 100.0)\n"
      ],
      "execution_count": 27,
      "outputs": [
        {
          "output_type": "stream",
          "text": [
            "Enter six coordinates of three points separated by commas like x1, y1, x2, y2, x3, y3: 4,8,8,5,11,2\n",
            "The three angles are  3.73 171.87 4.4\n"
          ],
          "name": "stdout"
        }
      ]
    },
    {
      "metadata": {
        "id": "zsfl19m1-ty8",
        "colab_type": "code",
        "colab": {
          "base_uri": "https://localhost:8080/",
          "height": 51
        },
        "outputId": "0cbd1a3c-07ca-49b1-a108-4f90a42ddceb"
      },
      "cell_type": "code",
      "source": [
        "def main():\n",
        "    x = 1 # x represents an int value\n",
        "    y = [1, 2, 3] # y represents a list \n",
        "\n",
        "    m(x, y) # Invoke f with arguments x and y\n",
        "\n",
        "    print(\"x is\", x)\n",
        "    print(\"y[0] is\", y[0])\n",
        "\n",
        "def m(number, numbers):\n",
        "    number = 1001 # Assign a new value to number\n",
        "    numbers[0] = 5555 # Assign a new value to numbers[0]\n",
        "\n",
        "main() # Call the main function"
      ],
      "execution_count": 29,
      "outputs": [
        {
          "output_type": "stream",
          "text": [
            "x is 1\n",
            "y[0] is 5555\n"
          ],
          "name": "stdout"
        }
      ]
    },
    {
      "metadata": {
        "id": "E9k69OXBBEhW",
        "colab_type": "code",
        "colab": {
          "base_uri": "https://localhost:8080/",
          "height": 34
        },
        "outputId": "14d34e2f-eec3-4aa4-c942-e6878dfc74c0"
      },
      "cell_type": "code",
      "source": [
        "sum = 0\n",
        "number = 0\n",
        "\n",
        "while number < 20: \n",
        "    number += 1\n",
        "    if number == 10 or number == 11: \n",
        "        continue\n",
        "    sum += number\n",
        "\n",
        "print(\"The sum is\", sum)"
      ],
      "execution_count": 32,
      "outputs": [
        {
          "output_type": "stream",
          "text": [
            "The sum is 189\n"
          ],
          "name": "stdout"
        }
      ]
    },
    {
      "metadata": {
        "id": "CZOFLJ6pCaK_",
        "colab_type": "code",
        "colab": {
          "base_uri": "https://localhost:8080/",
          "height": 51
        },
        "outputId": "4e3ab300-dd63-4eef-9885-81b216ebd835"
      },
      "cell_type": "code",
      "source": [
        "def getArea(radius):\n",
        "    if radius < 0:\n",
        "        raise RuntimeError(\"Negative radius\")\n",
        "    \n",
        "    return radius * radius * 3.1415\n",
        "\n",
        "try:\n",
        "    print(getArea(5))\n",
        "    print(getArea(-5))\n",
        "except RuntimeError:\n",
        "    print(\"Invalid radius\")"
      ],
      "execution_count": 34,
      "outputs": [
        {
          "output_type": "stream",
          "text": [
            "78.53750000000001\n",
            "Invalid radius\n"
          ],
          "name": "stdout"
        }
      ]
    }
  ]
}